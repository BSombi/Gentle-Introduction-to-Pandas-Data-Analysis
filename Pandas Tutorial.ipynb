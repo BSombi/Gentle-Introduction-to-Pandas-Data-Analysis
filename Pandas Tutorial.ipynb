{
 "cells": [
  {
   "cell_type": "markdown",
   "id": "c3a11c2e-c21b-46af-8e9e-b8afc8300c9f",
   "metadata": {},
   "source": [
    "# Pandas Tutorial"
   ]
  },
  {
   "cell_type": "markdown",
   "id": "3a101f8e-80e2-405e-ad61-d64656182fb1",
   "metadata": {},
   "source": [
    "## Introduction to Pandas"
   ]
  },
  {
   "cell_type": "markdown",
   "id": "2bc3bfce-90f8-47df-a1be-089217b8d4e1",
   "metadata": {},
   "source": [
    "Lets first import the necessary packages."
   ]
  },
  {
   "cell_type": "code",
   "execution_count": 3,
   "id": "7ac04876-3f85-47bf-b073-ff7b094654d7",
   "metadata": {
    "tags": []
   },
   "outputs": [],
   "source": [
    "import pandas as pd\n",
    "import numpy as np"
   ]
  },
  {
   "cell_type": "markdown",
   "id": "b4ebd3f5-3fd9-4aa1-b9ba-fa31212dc7ca",
   "metadata": {},
   "source": []
  },
  {
   "cell_type": "markdown",
   "id": "8bae0c2c-a75f-4396-8880-39cdfd1bcb51",
   "metadata": {},
   "source": [
    "# Data Structures"
   ]
  },
  {
   "cell_type": "markdown",
   "id": "6b984f9c-82fd-40eb-9c68-f65030bf96c0",
   "metadata": {},
   "source": [
    "We have 2 types of data structures. A Series and DataFrame"
   ]
  },
  {
   "cell_type": "markdown",
   "id": "fb640ebe-ad63-4a7a-92ce-6d513650607e",
   "metadata": {},
   "source": [
    "## Series"
   ]
  },
  {
   "cell_type": "markdown",
   "id": "e6850735-610e-41d5-b830-e3f7bdb595d9",
   "metadata": {},
   "source": [
    "A series is used to model one-dimensional data."
   ]
  },
  {
   "cell_type": "code",
   "execution_count": 5,
   "id": "0a668d2b-26ae-4299-90cb-7a66b6fca1a9",
   "metadata": {
    "tags": []
   },
   "outputs": [],
   "source": [
    "age = pd.Series([23,31,33,30,25], name='age')"
   ]
  },
  {
   "cell_type": "code",
   "execution_count": 6,
   "id": "931aaccd-219c-4171-aa42-caa6c5f10f47",
   "metadata": {
    "tags": []
   },
   "outputs": [
    {
     "data": {
      "text/plain": [
       "0    23\n",
       "1    31\n",
       "2    33\n",
       "3    30\n",
       "4    25\n",
       "Name: age, dtype: int64"
      ]
     },
     "execution_count": 6,
     "metadata": {},
     "output_type": "execute_result"
    }
   ],
   "source": [
    "age"
   ]
  },
  {
   "cell_type": "markdown",
   "id": "eef3cab2-8e7a-4965-b09a-6a8914c13070",
   "metadata": {},
   "source": []
  },
  {
   "cell_type": "markdown",
   "id": "507ad76a-c7c4-4d55-930d-cf241a18ade3",
   "metadata": {},
   "source": [
    "## DataFrames"
   ]
  },
  {
   "cell_type": "code",
   "execution_count": 7,
   "id": "76bc735e-15cf-4707-8472-23d5deafcb52",
   "metadata": {
    "tags": []
   },
   "outputs": [],
   "source": [
    "df = pd.DataFrame([\n",
    "    (23,'Ben',1500),\n",
    "    (31,'Tom',2300),\n",
    "    (33,'Jerry',900),\n",
    "    (30,'Tarisai',2000),\n",
    "    (25,'John',1700)\n",
    "], columns=['age', 'name', 'salary'])"
   ]
  },
  {
   "cell_type": "code",
   "execution_count": 8,
   "id": "540702e2-4cdb-489b-8c6b-b0836271740c",
   "metadata": {
    "tags": []
   },
   "outputs": [
    {
     "data": {
      "text/html": [
       "<div>\n",
       "<style scoped>\n",
       "    .dataframe tbody tr th:only-of-type {\n",
       "        vertical-align: middle;\n",
       "    }\n",
       "\n",
       "    .dataframe tbody tr th {\n",
       "        vertical-align: top;\n",
       "    }\n",
       "\n",
       "    .dataframe thead th {\n",
       "        text-align: right;\n",
       "    }\n",
       "</style>\n",
       "<table border=\"1\" class=\"dataframe\">\n",
       "  <thead>\n",
       "    <tr style=\"text-align: right;\">\n",
       "      <th></th>\n",
       "      <th>age</th>\n",
       "      <th>name</th>\n",
       "      <th>salary</th>\n",
       "    </tr>\n",
       "  </thead>\n",
       "  <tbody>\n",
       "    <tr>\n",
       "      <th>0</th>\n",
       "      <td>23</td>\n",
       "      <td>Ben</td>\n",
       "      <td>1500</td>\n",
       "    </tr>\n",
       "    <tr>\n",
       "      <th>1</th>\n",
       "      <td>31</td>\n",
       "      <td>Tom</td>\n",
       "      <td>2300</td>\n",
       "    </tr>\n",
       "    <tr>\n",
       "      <th>2</th>\n",
       "      <td>33</td>\n",
       "      <td>Jerry</td>\n",
       "      <td>900</td>\n",
       "    </tr>\n",
       "    <tr>\n",
       "      <th>3</th>\n",
       "      <td>30</td>\n",
       "      <td>Tarisai</td>\n",
       "      <td>2000</td>\n",
       "    </tr>\n",
       "    <tr>\n",
       "      <th>4</th>\n",
       "      <td>25</td>\n",
       "      <td>John</td>\n",
       "      <td>1700</td>\n",
       "    </tr>\n",
       "  </tbody>\n",
       "</table>\n",
       "</div>"
      ],
      "text/plain": [
       "   age     name  salary\n",
       "0   23      Ben    1500\n",
       "1   31      Tom    2300\n",
       "2   33    Jerry     900\n",
       "3   30  Tarisai    2000\n",
       "4   25     John    1700"
      ]
     },
     "execution_count": 8,
     "metadata": {},
     "output_type": "execute_result"
    }
   ],
   "source": [
    "df"
   ]
  },
  {
   "cell_type": "code",
   "execution_count": 9,
   "id": "776a7f8d-02e6-4fb7-9ca7-e90462b2ee9c",
   "metadata": {
    "tags": []
   },
   "outputs": [
    {
     "data": {
      "text/plain": [
       "0    23\n",
       "1    31\n",
       "2    33\n",
       "3    30\n",
       "4    25\n",
       "Name: age, dtype: int64"
      ]
     },
     "execution_count": 9,
     "metadata": {},
     "output_type": "execute_result"
    }
   ],
   "source": [
    "df['age']"
   ]
  },
  {
   "cell_type": "code",
   "execution_count": 10,
   "id": "7870e955-feff-499f-ab01-43fc42526586",
   "metadata": {
    "tags": []
   },
   "outputs": [
    {
     "data": {
      "text/plain": [
       "pandas.core.series.Series"
      ]
     },
     "execution_count": 10,
     "metadata": {},
     "output_type": "execute_result"
    }
   ],
   "source": [
    "type(df['age'])"
   ]
  },
  {
   "cell_type": "markdown",
   "id": "dca30c38-de2d-46c2-8a0f-0cbbf198337c",
   "metadata": {},
   "source": []
  },
  {
   "cell_type": "markdown",
   "id": "696aa920-7bdb-45b6-9ca6-f8c714239989",
   "metadata": {},
   "source": [
    "# Reading or Importing Data"
   ]
  },
  {
   "cell_type": "code",
   "execution_count": 4,
   "id": "f25b3322-1e6a-459c-99a6-9d87094600ba",
   "metadata": {
    "tags": []
   },
   "outputs": [],
   "source": [
    "hr_data = pd.read_csv('HR-Employee-Attrition.csv')"
   ]
  },
  {
   "cell_type": "markdown",
   "id": "32100b23-3a00-40f9-a411-83280688fe2d",
   "metadata": {},
   "source": [
    "# Inspecting the DataFrame"
   ]
  },
  {
   "cell_type": "markdown",
   "id": "7206568f-4302-4f30-a81b-7e29f17f071f",
   "metadata": {},
   "source": [
    "## Examining the Data"
   ]
  },
  {
   "cell_type": "markdown",
   "id": "98f8fba6-f376-49da-a65f-0d933757aa1c",
   "metadata": {},
   "source": [
    "### Is it empty?"
   ]
  },
  {
   "cell_type": "code",
   "execution_count": 14,
   "id": "c39aac7d-997e-444b-b027-4bf4c1bdd912",
   "metadata": {
    "tags": []
   },
   "outputs": [
    {
     "data": {
      "text/plain": [
       "False"
      ]
     },
     "execution_count": 14,
     "metadata": {},
     "output_type": "execute_result"
    }
   ],
   "source": [
    "hr_data.empty"
   ]
  },
  {
   "cell_type": "markdown",
   "id": "18668a3c-7d60-4322-9925-0712ad4068b7",
   "metadata": {},
   "source": [
    "### What are the dimensions?"
   ]
  },
  {
   "cell_type": "code",
   "execution_count": 15,
   "id": "7b4203a5-47d2-4f5e-b9e6-ae17104be09e",
   "metadata": {
    "tags": []
   },
   "outputs": [
    {
     "data": {
      "text/plain": [
       "(1470, 22)"
      ]
     },
     "execution_count": 15,
     "metadata": {},
     "output_type": "execute_result"
    }
   ],
   "source": [
    "hr_data.shape"
   ]
  },
  {
   "cell_type": "markdown",
   "id": "a2659a7a-41b1-45d0-b45b-e1ea68ab25f1",
   "metadata": {},
   "source": [
    "### What columns do we have?\n",
    "\n",
    "We know there are 26 columns, but what are they? Let's use the columns attribute to see:"
   ]
  },
  {
   "cell_type": "code",
   "execution_count": 16,
   "id": "7ccacb8d-bbb9-4938-a3c6-5e23b30c3f11",
   "metadata": {
    "tags": []
   },
   "outputs": [
    {
     "data": {
      "text/plain": [
       "Index(['Age', 'BusinessTravel', 'DailyRate', 'CostOfHiring', 'Department',\n",
       "       'Education', 'EducationField', 'EnvironmentSatisfaction', 'Gender',\n",
       "       'JobRole', 'JobSatisfaction', 'MaritalStatus', 'MonthlyIncome',\n",
       "       'NumCompaniesWorked', 'OverTime', 'PerformanceRating',\n",
       "       'TotalWorkingYears', 'TrainingTimesLastYear', 'YearsAtCompany',\n",
       "       'YearsSinceLastPromotion', 'YearsWithCurrManager', 'Attrition'],\n",
       "      dtype='object')"
      ]
     },
     "execution_count": 16,
     "metadata": {},
     "output_type": "execute_result"
    }
   ],
   "source": [
    "hr_data.columns"
   ]
  },
  {
   "cell_type": "markdown",
   "id": "60a44880-be46-465c-a2a1-9e36310691e5",
   "metadata": {},
   "source": [
    "### What does the data look like?\n",
    "\n",
    "View rows from the top with head():"
   ]
  },
  {
   "cell_type": "code",
   "execution_count": 18,
   "id": "3b06f850-95f6-4fbd-890b-b683ed522cea",
   "metadata": {
    "tags": []
   },
   "outputs": [
    {
     "data": {
      "text/html": [
       "<div>\n",
       "<style scoped>\n",
       "    .dataframe tbody tr th:only-of-type {\n",
       "        vertical-align: middle;\n",
       "    }\n",
       "\n",
       "    .dataframe tbody tr th {\n",
       "        vertical-align: top;\n",
       "    }\n",
       "\n",
       "    .dataframe thead th {\n",
       "        text-align: right;\n",
       "    }\n",
       "</style>\n",
       "<table border=\"1\" class=\"dataframe\">\n",
       "  <thead>\n",
       "    <tr style=\"text-align: right;\">\n",
       "      <th></th>\n",
       "      <th>Age</th>\n",
       "      <th>BusinessTravel</th>\n",
       "      <th>DailyRate</th>\n",
       "      <th>CostOfHiring</th>\n",
       "      <th>Department</th>\n",
       "      <th>Education</th>\n",
       "      <th>EducationField</th>\n",
       "      <th>EnvironmentSatisfaction</th>\n",
       "      <th>Gender</th>\n",
       "      <th>JobRole</th>\n",
       "      <th>...</th>\n",
       "      <th>MonthlyIncome</th>\n",
       "      <th>NumCompaniesWorked</th>\n",
       "      <th>OverTime</th>\n",
       "      <th>PerformanceRating</th>\n",
       "      <th>TotalWorkingYears</th>\n",
       "      <th>TrainingTimesLastYear</th>\n",
       "      <th>YearsAtCompany</th>\n",
       "      <th>YearsSinceLastPromotion</th>\n",
       "      <th>YearsWithCurrManager</th>\n",
       "      <th>Attrition</th>\n",
       "    </tr>\n",
       "  </thead>\n",
       "  <tbody>\n",
       "    <tr>\n",
       "      <th>0</th>\n",
       "      <td>41</td>\n",
       "      <td>Travel_Rarely</td>\n",
       "      <td>1102</td>\n",
       "      <td>7192</td>\n",
       "      <td>Sales</td>\n",
       "      <td>College</td>\n",
       "      <td>Life Sciences</td>\n",
       "      <td>Medium</td>\n",
       "      <td>Female</td>\n",
       "      <td>Sales Executive</td>\n",
       "      <td>...</td>\n",
       "      <td>5993</td>\n",
       "      <td>8</td>\n",
       "      <td>Yes</td>\n",
       "      <td>Excellent</td>\n",
       "      <td>8</td>\n",
       "      <td>0</td>\n",
       "      <td>6</td>\n",
       "      <td>0</td>\n",
       "      <td>5</td>\n",
       "      <td>Yes</td>\n",
       "    </tr>\n",
       "    <tr>\n",
       "      <th>1</th>\n",
       "      <td>49</td>\n",
       "      <td>Travel_Frequently</td>\n",
       "      <td>279</td>\n",
       "      <td>6156</td>\n",
       "      <td>Research &amp; Development</td>\n",
       "      <td>Below College</td>\n",
       "      <td>Life Sciences</td>\n",
       "      <td>High</td>\n",
       "      <td>Male</td>\n",
       "      <td>Research Scientist</td>\n",
       "      <td>...</td>\n",
       "      <td>5130</td>\n",
       "      <td>1</td>\n",
       "      <td>No</td>\n",
       "      <td>Outstanding</td>\n",
       "      <td>10</td>\n",
       "      <td>3</td>\n",
       "      <td>10</td>\n",
       "      <td>1</td>\n",
       "      <td>7</td>\n",
       "      <td>No</td>\n",
       "    </tr>\n",
       "    <tr>\n",
       "      <th>2</th>\n",
       "      <td>37</td>\n",
       "      <td>Travel_Rarely</td>\n",
       "      <td>1373</td>\n",
       "      <td>2508</td>\n",
       "      <td>Research &amp; Development</td>\n",
       "      <td>College</td>\n",
       "      <td>Other</td>\n",
       "      <td>Very High</td>\n",
       "      <td>Male</td>\n",
       "      <td>Laboratory Technician</td>\n",
       "      <td>...</td>\n",
       "      <td>2090</td>\n",
       "      <td>6</td>\n",
       "      <td>Yes</td>\n",
       "      <td>Excellent</td>\n",
       "      <td>7</td>\n",
       "      <td>3</td>\n",
       "      <td>0</td>\n",
       "      <td>0</td>\n",
       "      <td>0</td>\n",
       "      <td>Yes</td>\n",
       "    </tr>\n",
       "  </tbody>\n",
       "</table>\n",
       "<p>3 rows × 22 columns</p>\n",
       "</div>"
      ],
      "text/plain": [
       "   Age     BusinessTravel  DailyRate  CostOfHiring              Department  \\\n",
       "0   41      Travel_Rarely       1102          7192                   Sales   \n",
       "1   49  Travel_Frequently        279          6156  Research & Development   \n",
       "2   37      Travel_Rarely       1373          2508  Research & Development   \n",
       "\n",
       "       Education EducationField EnvironmentSatisfaction  Gender  \\\n",
       "0        College  Life Sciences                  Medium  Female   \n",
       "1  Below College  Life Sciences                    High    Male   \n",
       "2        College          Other               Very High    Male   \n",
       "\n",
       "                 JobRole  ... MonthlyIncome NumCompaniesWorked  OverTime  \\\n",
       "0        Sales Executive  ...          5993                  8       Yes   \n",
       "1     Research Scientist  ...          5130                  1        No   \n",
       "2  Laboratory Technician  ...          2090                  6       Yes   \n",
       "\n",
       "   PerformanceRating TotalWorkingYears TrainingTimesLastYear  YearsAtCompany  \\\n",
       "0          Excellent                 8                     0               6   \n",
       "1        Outstanding                10                     3              10   \n",
       "2          Excellent                 7                     3               0   \n",
       "\n",
       "   YearsSinceLastPromotion  YearsWithCurrManager  Attrition  \n",
       "0                        0                     5        Yes  \n",
       "1                        1                     7         No  \n",
       "2                        0                     0        Yes  \n",
       "\n",
       "[3 rows x 22 columns]"
      ]
     },
     "execution_count": 18,
     "metadata": {},
     "output_type": "execute_result"
    }
   ],
   "source": [
    "hr_data.head(3)"
   ]
  },
  {
   "cell_type": "markdown",
   "id": "71cee013-4317-4e39-b05d-529ccadfa6c9",
   "metadata": {},
   "source": [
    "View rows from the bottom with tail(). Let's view 2 rows:"
   ]
  },
  {
   "cell_type": "code",
   "execution_count": 19,
   "id": "aaf7e549-569f-4f50-bdba-62802b00419a",
   "metadata": {
    "tags": []
   },
   "outputs": [
    {
     "data": {
      "text/html": [
       "<div>\n",
       "<style scoped>\n",
       "    .dataframe tbody tr th:only-of-type {\n",
       "        vertical-align: middle;\n",
       "    }\n",
       "\n",
       "    .dataframe tbody tr th {\n",
       "        vertical-align: top;\n",
       "    }\n",
       "\n",
       "    .dataframe thead th {\n",
       "        text-align: right;\n",
       "    }\n",
       "</style>\n",
       "<table border=\"1\" class=\"dataframe\">\n",
       "  <thead>\n",
       "    <tr style=\"text-align: right;\">\n",
       "      <th></th>\n",
       "      <th>Age</th>\n",
       "      <th>BusinessTravel</th>\n",
       "      <th>DailyRate</th>\n",
       "      <th>CostOfHiring</th>\n",
       "      <th>Department</th>\n",
       "      <th>Education</th>\n",
       "      <th>EducationField</th>\n",
       "      <th>EnvironmentSatisfaction</th>\n",
       "      <th>Gender</th>\n",
       "      <th>JobRole</th>\n",
       "      <th>...</th>\n",
       "      <th>MonthlyIncome</th>\n",
       "      <th>NumCompaniesWorked</th>\n",
       "      <th>OverTime</th>\n",
       "      <th>PerformanceRating</th>\n",
       "      <th>TotalWorkingYears</th>\n",
       "      <th>TrainingTimesLastYear</th>\n",
       "      <th>YearsAtCompany</th>\n",
       "      <th>YearsSinceLastPromotion</th>\n",
       "      <th>YearsWithCurrManager</th>\n",
       "      <th>Attrition</th>\n",
       "    </tr>\n",
       "  </thead>\n",
       "  <tbody>\n",
       "    <tr>\n",
       "      <th>1468</th>\n",
       "      <td>49</td>\n",
       "      <td>Travel_Frequently</td>\n",
       "      <td>1023</td>\n",
       "      <td>6468</td>\n",
       "      <td>Sales</td>\n",
       "      <td>Bachelor</td>\n",
       "      <td>Medical</td>\n",
       "      <td>Very High</td>\n",
       "      <td>Male</td>\n",
       "      <td>Sales Executive</td>\n",
       "      <td>...</td>\n",
       "      <td>5390</td>\n",
       "      <td>2</td>\n",
       "      <td>No</td>\n",
       "      <td>Excellent</td>\n",
       "      <td>17</td>\n",
       "      <td>3</td>\n",
       "      <td>9</td>\n",
       "      <td>0</td>\n",
       "      <td>8</td>\n",
       "      <td>No</td>\n",
       "    </tr>\n",
       "    <tr>\n",
       "      <th>1469</th>\n",
       "      <td>34</td>\n",
       "      <td>Travel_Rarely</td>\n",
       "      <td>628</td>\n",
       "      <td>5285</td>\n",
       "      <td>Research &amp; Development</td>\n",
       "      <td>Bachelor</td>\n",
       "      <td>Medical</td>\n",
       "      <td>Medium</td>\n",
       "      <td>Male</td>\n",
       "      <td>Laboratory Technician</td>\n",
       "      <td>...</td>\n",
       "      <td>4404</td>\n",
       "      <td>2</td>\n",
       "      <td>No</td>\n",
       "      <td>Excellent</td>\n",
       "      <td>6</td>\n",
       "      <td>3</td>\n",
       "      <td>4</td>\n",
       "      <td>1</td>\n",
       "      <td>2</td>\n",
       "      <td>No</td>\n",
       "    </tr>\n",
       "  </tbody>\n",
       "</table>\n",
       "<p>2 rows × 22 columns</p>\n",
       "</div>"
      ],
      "text/plain": [
       "      Age     BusinessTravel  DailyRate  CostOfHiring              Department  \\\n",
       "1468   49  Travel_Frequently       1023          6468                   Sales   \n",
       "1469   34      Travel_Rarely        628          5285  Research & Development   \n",
       "\n",
       "     Education EducationField EnvironmentSatisfaction Gender  \\\n",
       "1468  Bachelor        Medical               Very High   Male   \n",
       "1469  Bachelor        Medical                  Medium   Male   \n",
       "\n",
       "                    JobRole  ... MonthlyIncome NumCompaniesWorked  OverTime  \\\n",
       "1468        Sales Executive  ...          5390                  2        No   \n",
       "1469  Laboratory Technician  ...          4404                  2        No   \n",
       "\n",
       "      PerformanceRating TotalWorkingYears TrainingTimesLastYear  \\\n",
       "1468          Excellent                17                     3   \n",
       "1469          Excellent                 6                     3   \n",
       "\n",
       "      YearsAtCompany  YearsSinceLastPromotion  YearsWithCurrManager  Attrition  \n",
       "1468               9                        0                     8         No  \n",
       "1469               4                        1                     2         No  \n",
       "\n",
       "[2 rows x 22 columns]"
      ]
     },
     "execution_count": 19,
     "metadata": {},
     "output_type": "execute_result"
    }
   ],
   "source": [
    "hr_data.tail(2)"
   ]
  },
  {
   "cell_type": "markdown",
   "id": "417ea775-4103-4c05-a4a0-8d4482aab785",
   "metadata": {},
   "source": [
    "### What data types do we have?"
   ]
  },
  {
   "cell_type": "code",
   "execution_count": 21,
   "id": "2cd7b6eb-e4c5-45fb-834f-1d8b6abd115b",
   "metadata": {
    "tags": []
   },
   "outputs": [
    {
     "data": {
      "text/plain": [
       "Age                         int64\n",
       "BusinessTravel             object\n",
       "DailyRate                   int64\n",
       "CostOfHiring                int64\n",
       "Department                 object\n",
       "Education                  object\n",
       "EducationField             object\n",
       "EnvironmentSatisfaction    object\n",
       "Gender                     object\n",
       "JobRole                    object\n",
       "JobSatisfaction            object\n",
       "MaritalStatus              object\n",
       "MonthlyIncome               int64\n",
       "NumCompaniesWorked          int64\n",
       "OverTime                   object\n",
       "PerformanceRating          object\n",
       "TotalWorkingYears           int64\n",
       "TrainingTimesLastYear       int64\n",
       "YearsAtCompany              int64\n",
       "YearsSinceLastPromotion     int64\n",
       "YearsWithCurrManager        int64\n",
       "Attrition                  object\n",
       "dtype: object"
      ]
     },
     "execution_count": 21,
     "metadata": {},
     "output_type": "execute_result"
    }
   ],
   "source": [
    "hr_data.dtypes"
   ]
  },
  {
   "cell_type": "markdown",
   "id": "0369431b-1405-4b5a-a5d3-5e2136252b92",
   "metadata": {},
   "source": [
    "### Getting extra info and finding nulls"
   ]
  },
  {
   "cell_type": "code",
   "execution_count": 20,
   "id": "bec1a516-9e42-4a02-bc27-89518f0fd577",
   "metadata": {
    "tags": []
   },
   "outputs": [
    {
     "name": "stdout",
     "output_type": "stream",
     "text": [
      "<class 'pandas.core.frame.DataFrame'>\n",
      "RangeIndex: 1470 entries, 0 to 1469\n",
      "Data columns (total 22 columns):\n",
      " #   Column                   Non-Null Count  Dtype \n",
      "---  ------                   --------------  ----- \n",
      " 0   Age                      1470 non-null   int64 \n",
      " 1   BusinessTravel           1470 non-null   object\n",
      " 2   DailyRate                1470 non-null   int64 \n",
      " 3   CostOfHiring             1470 non-null   int64 \n",
      " 4   Department               1470 non-null   object\n",
      " 5   Education                1470 non-null   object\n",
      " 6   EducationField           1470 non-null   object\n",
      " 7   EnvironmentSatisfaction  1470 non-null   object\n",
      " 8   Gender                   1470 non-null   object\n",
      " 9   JobRole                  1470 non-null   object\n",
      " 10  JobSatisfaction          1470 non-null   object\n",
      " 11  MaritalStatus            1470 non-null   object\n",
      " 12  MonthlyIncome            1470 non-null   int64 \n",
      " 13  NumCompaniesWorked       1470 non-null   int64 \n",
      " 14  OverTime                 1470 non-null   object\n",
      " 15  PerformanceRating        1470 non-null   object\n",
      " 16  TotalWorkingYears        1470 non-null   int64 \n",
      " 17  TrainingTimesLastYear    1470 non-null   int64 \n",
      " 18  YearsAtCompany           1470 non-null   int64 \n",
      " 19  YearsSinceLastPromotion  1470 non-null   int64 \n",
      " 20  YearsWithCurrManager     1470 non-null   int64 \n",
      " 21  Attrition                1470 non-null   object\n",
      "dtypes: int64(10), object(12)\n",
      "memory usage: 252.8+ KB\n"
     ]
    }
   ],
   "source": [
    "hr_data.info()"
   ]
  },
  {
   "cell_type": "markdown",
   "id": "87463e33-15ab-42af-aca1-612211faf5ee",
   "metadata": {},
   "source": [
    "## Describing and Summarizing\n",
    "\n",
    "### Get summary statistics"
   ]
  },
  {
   "cell_type": "code",
   "execution_count": 22,
   "id": "f3d7cf70-7fc2-445e-9959-a435deb7cbda",
   "metadata": {
    "tags": []
   },
   "outputs": [
    {
     "data": {
      "text/html": [
       "<div>\n",
       "<style scoped>\n",
       "    .dataframe tbody tr th:only-of-type {\n",
       "        vertical-align: middle;\n",
       "    }\n",
       "\n",
       "    .dataframe tbody tr th {\n",
       "        vertical-align: top;\n",
       "    }\n",
       "\n",
       "    .dataframe thead th {\n",
       "        text-align: right;\n",
       "    }\n",
       "</style>\n",
       "<table border=\"1\" class=\"dataframe\">\n",
       "  <thead>\n",
       "    <tr style=\"text-align: right;\">\n",
       "      <th></th>\n",
       "      <th>Age</th>\n",
       "      <th>DailyRate</th>\n",
       "      <th>CostOfHiring</th>\n",
       "      <th>MonthlyIncome</th>\n",
       "      <th>NumCompaniesWorked</th>\n",
       "      <th>TotalWorkingYears</th>\n",
       "      <th>TrainingTimesLastYear</th>\n",
       "      <th>YearsAtCompany</th>\n",
       "      <th>YearsSinceLastPromotion</th>\n",
       "      <th>YearsWithCurrManager</th>\n",
       "    </tr>\n",
       "  </thead>\n",
       "  <tbody>\n",
       "    <tr>\n",
       "      <th>count</th>\n",
       "      <td>1470.000000</td>\n",
       "      <td>1470.000000</td>\n",
       "      <td>1470.000000</td>\n",
       "      <td>1470.000000</td>\n",
       "      <td>1470.000000</td>\n",
       "      <td>1470.000000</td>\n",
       "      <td>1470.000000</td>\n",
       "      <td>1470.000000</td>\n",
       "      <td>1470.000000</td>\n",
       "      <td>1470.000000</td>\n",
       "    </tr>\n",
       "    <tr>\n",
       "      <th>mean</th>\n",
       "      <td>36.923810</td>\n",
       "      <td>802.485714</td>\n",
       "      <td>7803.511565</td>\n",
       "      <td>6502.931293</td>\n",
       "      <td>2.693197</td>\n",
       "      <td>11.279592</td>\n",
       "      <td>2.799320</td>\n",
       "      <td>7.008163</td>\n",
       "      <td>2.187755</td>\n",
       "      <td>4.123129</td>\n",
       "    </tr>\n",
       "    <tr>\n",
       "      <th>std</th>\n",
       "      <td>9.135373</td>\n",
       "      <td>403.509100</td>\n",
       "      <td>5649.542212</td>\n",
       "      <td>4707.956783</td>\n",
       "      <td>2.498009</td>\n",
       "      <td>7.780782</td>\n",
       "      <td>1.289271</td>\n",
       "      <td>6.126525</td>\n",
       "      <td>3.222430</td>\n",
       "      <td>3.568136</td>\n",
       "    </tr>\n",
       "    <tr>\n",
       "      <th>min</th>\n",
       "      <td>18.000000</td>\n",
       "      <td>102.000000</td>\n",
       "      <td>1211.000000</td>\n",
       "      <td>1009.000000</td>\n",
       "      <td>0.000000</td>\n",
       "      <td>0.000000</td>\n",
       "      <td>0.000000</td>\n",
       "      <td>0.000000</td>\n",
       "      <td>0.000000</td>\n",
       "      <td>0.000000</td>\n",
       "    </tr>\n",
       "    <tr>\n",
       "      <th>25%</th>\n",
       "      <td>30.000000</td>\n",
       "      <td>465.000000</td>\n",
       "      <td>3493.000000</td>\n",
       "      <td>2911.000000</td>\n",
       "      <td>1.000000</td>\n",
       "      <td>6.000000</td>\n",
       "      <td>2.000000</td>\n",
       "      <td>3.000000</td>\n",
       "      <td>0.000000</td>\n",
       "      <td>2.000000</td>\n",
       "    </tr>\n",
       "    <tr>\n",
       "      <th>50%</th>\n",
       "      <td>36.000000</td>\n",
       "      <td>802.000000</td>\n",
       "      <td>5903.000000</td>\n",
       "      <td>4919.000000</td>\n",
       "      <td>2.000000</td>\n",
       "      <td>10.000000</td>\n",
       "      <td>3.000000</td>\n",
       "      <td>5.000000</td>\n",
       "      <td>1.000000</td>\n",
       "      <td>3.000000</td>\n",
       "    </tr>\n",
       "    <tr>\n",
       "      <th>75%</th>\n",
       "      <td>43.000000</td>\n",
       "      <td>1157.000000</td>\n",
       "      <td>10054.750000</td>\n",
       "      <td>8379.000000</td>\n",
       "      <td>4.000000</td>\n",
       "      <td>15.000000</td>\n",
       "      <td>3.000000</td>\n",
       "      <td>9.000000</td>\n",
       "      <td>3.000000</td>\n",
       "      <td>7.000000</td>\n",
       "    </tr>\n",
       "    <tr>\n",
       "      <th>max</th>\n",
       "      <td>60.000000</td>\n",
       "      <td>1499.000000</td>\n",
       "      <td>23999.000000</td>\n",
       "      <td>19999.000000</td>\n",
       "      <td>9.000000</td>\n",
       "      <td>40.000000</td>\n",
       "      <td>6.000000</td>\n",
       "      <td>40.000000</td>\n",
       "      <td>15.000000</td>\n",
       "      <td>17.000000</td>\n",
       "    </tr>\n",
       "  </tbody>\n",
       "</table>\n",
       "</div>"
      ],
      "text/plain": [
       "               Age    DailyRate  CostOfHiring  MonthlyIncome  \\\n",
       "count  1470.000000  1470.000000   1470.000000    1470.000000   \n",
       "mean     36.923810   802.485714   7803.511565    6502.931293   \n",
       "std       9.135373   403.509100   5649.542212    4707.956783   \n",
       "min      18.000000   102.000000   1211.000000    1009.000000   \n",
       "25%      30.000000   465.000000   3493.000000    2911.000000   \n",
       "50%      36.000000   802.000000   5903.000000    4919.000000   \n",
       "75%      43.000000  1157.000000  10054.750000    8379.000000   \n",
       "max      60.000000  1499.000000  23999.000000   19999.000000   \n",
       "\n",
       "       NumCompaniesWorked  TotalWorkingYears  TrainingTimesLastYear  \\\n",
       "count         1470.000000        1470.000000            1470.000000   \n",
       "mean             2.693197          11.279592               2.799320   \n",
       "std              2.498009           7.780782               1.289271   \n",
       "min              0.000000           0.000000               0.000000   \n",
       "25%              1.000000           6.000000               2.000000   \n",
       "50%              2.000000          10.000000               3.000000   \n",
       "75%              4.000000          15.000000               3.000000   \n",
       "max              9.000000          40.000000               6.000000   \n",
       "\n",
       "       YearsAtCompany  YearsSinceLastPromotion  YearsWithCurrManager  \n",
       "count     1470.000000              1470.000000           1470.000000  \n",
       "mean         7.008163                 2.187755              4.123129  \n",
       "std          6.126525                 3.222430              3.568136  \n",
       "min          0.000000                 0.000000              0.000000  \n",
       "25%          3.000000                 0.000000              2.000000  \n",
       "50%          5.000000                 1.000000              3.000000  \n",
       "75%          9.000000                 3.000000              7.000000  \n",
       "max         40.000000                15.000000             17.000000  "
      ]
     },
     "execution_count": 22,
     "metadata": {},
     "output_type": "execute_result"
    }
   ],
   "source": [
    "hr_data.describe()"
   ]
  },
  {
   "cell_type": "markdown",
   "id": "20227d97-99ec-416f-9334-3f7bf989186c",
   "metadata": {},
   "source": [
    "### Specifying the 5th and 95th percentile:"
   ]
  },
  {
   "cell_type": "code",
   "execution_count": 23,
   "id": "9e7d09fa-3a69-471d-9cc6-c3b1fc834907",
   "metadata": {
    "tags": []
   },
   "outputs": [
    {
     "data": {
      "text/html": [
       "<div>\n",
       "<style scoped>\n",
       "    .dataframe tbody tr th:only-of-type {\n",
       "        vertical-align: middle;\n",
       "    }\n",
       "\n",
       "    .dataframe tbody tr th {\n",
       "        vertical-align: top;\n",
       "    }\n",
       "\n",
       "    .dataframe thead th {\n",
       "        text-align: right;\n",
       "    }\n",
       "</style>\n",
       "<table border=\"1\" class=\"dataframe\">\n",
       "  <thead>\n",
       "    <tr style=\"text-align: right;\">\n",
       "      <th></th>\n",
       "      <th>Age</th>\n",
       "      <th>DailyRate</th>\n",
       "      <th>CostOfHiring</th>\n",
       "      <th>MonthlyIncome</th>\n",
       "      <th>NumCompaniesWorked</th>\n",
       "      <th>TotalWorkingYears</th>\n",
       "      <th>TrainingTimesLastYear</th>\n",
       "      <th>YearsAtCompany</th>\n",
       "      <th>YearsSinceLastPromotion</th>\n",
       "      <th>YearsWithCurrManager</th>\n",
       "    </tr>\n",
       "  </thead>\n",
       "  <tbody>\n",
       "    <tr>\n",
       "      <th>count</th>\n",
       "      <td>1470.000000</td>\n",
       "      <td>1470.000000</td>\n",
       "      <td>1470.000000</td>\n",
       "      <td>1470.000000</td>\n",
       "      <td>1470.000000</td>\n",
       "      <td>1470.000000</td>\n",
       "      <td>1470.000000</td>\n",
       "      <td>1470.000000</td>\n",
       "      <td>1470.000000</td>\n",
       "      <td>1470.000000</td>\n",
       "    </tr>\n",
       "    <tr>\n",
       "      <th>mean</th>\n",
       "      <td>36.923810</td>\n",
       "      <td>802.485714</td>\n",
       "      <td>7803.511565</td>\n",
       "      <td>6502.931293</td>\n",
       "      <td>2.693197</td>\n",
       "      <td>11.279592</td>\n",
       "      <td>2.799320</td>\n",
       "      <td>7.008163</td>\n",
       "      <td>2.187755</td>\n",
       "      <td>4.123129</td>\n",
       "    </tr>\n",
       "    <tr>\n",
       "      <th>std</th>\n",
       "      <td>9.135373</td>\n",
       "      <td>403.509100</td>\n",
       "      <td>5649.542212</td>\n",
       "      <td>4707.956783</td>\n",
       "      <td>2.498009</td>\n",
       "      <td>7.780782</td>\n",
       "      <td>1.289271</td>\n",
       "      <td>6.126525</td>\n",
       "      <td>3.222430</td>\n",
       "      <td>3.568136</td>\n",
       "    </tr>\n",
       "    <tr>\n",
       "      <th>min</th>\n",
       "      <td>18.000000</td>\n",
       "      <td>102.000000</td>\n",
       "      <td>1211.000000</td>\n",
       "      <td>1009.000000</td>\n",
       "      <td>0.000000</td>\n",
       "      <td>0.000000</td>\n",
       "      <td>0.000000</td>\n",
       "      <td>0.000000</td>\n",
       "      <td>0.000000</td>\n",
       "      <td>0.000000</td>\n",
       "    </tr>\n",
       "    <tr>\n",
       "      <th>5%</th>\n",
       "      <td>24.000000</td>\n",
       "      <td>165.350000</td>\n",
       "      <td>2517.350000</td>\n",
       "      <td>2097.900000</td>\n",
       "      <td>0.000000</td>\n",
       "      <td>1.000000</td>\n",
       "      <td>1.000000</td>\n",
       "      <td>1.000000</td>\n",
       "      <td>0.000000</td>\n",
       "      <td>0.000000</td>\n",
       "    </tr>\n",
       "    <tr>\n",
       "      <th>50%</th>\n",
       "      <td>36.000000</td>\n",
       "      <td>802.000000</td>\n",
       "      <td>5903.000000</td>\n",
       "      <td>4919.000000</td>\n",
       "      <td>2.000000</td>\n",
       "      <td>10.000000</td>\n",
       "      <td>3.000000</td>\n",
       "      <td>5.000000</td>\n",
       "      <td>1.000000</td>\n",
       "      <td>3.000000</td>\n",
       "    </tr>\n",
       "    <tr>\n",
       "      <th>95%</th>\n",
       "      <td>54.000000</td>\n",
       "      <td>1424.100000</td>\n",
       "      <td>21385.600000</td>\n",
       "      <td>17821.350000</td>\n",
       "      <td>8.000000</td>\n",
       "      <td>28.000000</td>\n",
       "      <td>5.000000</td>\n",
       "      <td>20.000000</td>\n",
       "      <td>9.000000</td>\n",
       "      <td>10.000000</td>\n",
       "    </tr>\n",
       "    <tr>\n",
       "      <th>max</th>\n",
       "      <td>60.000000</td>\n",
       "      <td>1499.000000</td>\n",
       "      <td>23999.000000</td>\n",
       "      <td>19999.000000</td>\n",
       "      <td>9.000000</td>\n",
       "      <td>40.000000</td>\n",
       "      <td>6.000000</td>\n",
       "      <td>40.000000</td>\n",
       "      <td>15.000000</td>\n",
       "      <td>17.000000</td>\n",
       "    </tr>\n",
       "  </tbody>\n",
       "</table>\n",
       "</div>"
      ],
      "text/plain": [
       "               Age    DailyRate  CostOfHiring  MonthlyIncome  \\\n",
       "count  1470.000000  1470.000000   1470.000000    1470.000000   \n",
       "mean     36.923810   802.485714   7803.511565    6502.931293   \n",
       "std       9.135373   403.509100   5649.542212    4707.956783   \n",
       "min      18.000000   102.000000   1211.000000    1009.000000   \n",
       "5%       24.000000   165.350000   2517.350000    2097.900000   \n",
       "50%      36.000000   802.000000   5903.000000    4919.000000   \n",
       "95%      54.000000  1424.100000  21385.600000   17821.350000   \n",
       "max      60.000000  1499.000000  23999.000000   19999.000000   \n",
       "\n",
       "       NumCompaniesWorked  TotalWorkingYears  TrainingTimesLastYear  \\\n",
       "count         1470.000000        1470.000000            1470.000000   \n",
       "mean             2.693197          11.279592               2.799320   \n",
       "std              2.498009           7.780782               1.289271   \n",
       "min              0.000000           0.000000               0.000000   \n",
       "5%               0.000000           1.000000               1.000000   \n",
       "50%              2.000000          10.000000               3.000000   \n",
       "95%              8.000000          28.000000               5.000000   \n",
       "max              9.000000          40.000000               6.000000   \n",
       "\n",
       "       YearsAtCompany  YearsSinceLastPromotion  YearsWithCurrManager  \n",
       "count     1470.000000              1470.000000           1470.000000  \n",
       "mean         7.008163                 2.187755              4.123129  \n",
       "std          6.126525                 3.222430              3.568136  \n",
       "min          0.000000                 0.000000              0.000000  \n",
       "5%           1.000000                 0.000000              0.000000  \n",
       "50%          5.000000                 1.000000              3.000000  \n",
       "95%         20.000000                 9.000000             10.000000  \n",
       "max         40.000000                15.000000             17.000000  "
      ]
     },
     "execution_count": 23,
     "metadata": {},
     "output_type": "execute_result"
    }
   ],
   "source": [
    "hr_data.describe(percentiles=[0.05, 0.95])"
   ]
  },
  {
   "cell_type": "markdown",
   "id": "0b9c83a7-c7ea-48a6-9490-1624a3271286",
   "metadata": {},
   "source": [
    "### This works for columns also:"
   ]
  },
  {
   "cell_type": "code",
   "execution_count": 25,
   "id": "dff132be-a652-44f0-a0ea-41b51bf8faf8",
   "metadata": {
    "tags": []
   },
   "outputs": [
    {
     "data": {
      "text/plain": [
       "count    1470.000000\n",
       "mean       36.923810\n",
       "std         9.135373\n",
       "min        18.000000\n",
       "25%        30.000000\n",
       "50%        36.000000\n",
       "75%        43.000000\n",
       "max        60.000000\n",
       "Name: Age, dtype: float64"
      ]
     },
     "execution_count": 25,
     "metadata": {},
     "output_type": "execute_result"
    }
   ],
   "source": [
    "hr_data.Age.describe()"
   ]
  },
  {
   "cell_type": "markdown",
   "id": "d6c0ca17-3fd2-4216-bee0-5bb88e30789d",
   "metadata": {},
   "source": [
    "There are methods for specific statistics as well. Here is a sampling of them:\n",
    "\n",
    "| Method | Description | Data types |\n",
    "| --- | --- | --- |\n",
    "| `count()` | The number of non-null observations | Any |\n",
    "| `nunique()` | The number of unique values | Any |\n",
    "| `sum()` | The total of the values | Numerical or Boolean |\n",
    "| `mean()` | The average of the values | Numerical or Boolean |\n",
    "| `median()` | The median of the values | Numerical |\n",
    "| `min()` | The minimum of the values | Numerical |\n",
    "| `idxmin()` | The index where the minimum values occurs | Numerical |\n",
    "| `max()` | The maximum of the values | Numerical |\n",
    "| `idxmax()` | The index where the maximum value occurs | Numerical |\n",
    "| `abs()` | The absolute values of the data | Numerical |\n",
    "| `std()` | The standard deviation | Numerical |\n",
    "| `var()` | The variance |  Numerical |\n",
    "| `cov()` | The covariance between two `Series`, or a covariance matrix for all column combinations in a `DataFrame` | Numerical |\n",
    "| `corr()` | The correlation between two `Series`, or a correlation matrix for all column combinations in a `DataFrame` | Numerical |\n",
    "| `quantile()` | Calculates a specific quantile | Numerical |\n",
    "| `cumsum()` | The cumulative sum | Numerical or Boolean |\n",
    "| `cummin()` | The cumulative minimum | Numerical |\n",
    "| `cummax()` | The cumulative maximum | Numerical |\n",
    "\n",
    "For example, finding the unique values in the `BusinessTravel` column:"
   ]
  },
  {
   "cell_type": "code",
   "execution_count": 26,
   "id": "746a4dbc-4dda-440a-a46a-14cb5bd8e3f2",
   "metadata": {
    "tags": []
   },
   "outputs": [
    {
     "data": {
      "text/plain": [
       "array(['Travel_Rarely', 'Travel_Frequently', 'Non-Travel'], dtype=object)"
      ]
     },
     "execution_count": 26,
     "metadata": {},
     "output_type": "execute_result"
    }
   ],
   "source": [
    "hr_data.BusinessTravel.unique()"
   ]
  },
  {
   "cell_type": "markdown",
   "id": "fe107fd8-baa4-4391-a423-4dce825f9e94",
   "metadata": {},
   "source": [
    "We can then use value_counts() to see how many of each unique value we have:"
   ]
  },
  {
   "cell_type": "code",
   "execution_count": 27,
   "id": "566f525c-e227-4223-bb62-e07f16ef1aba",
   "metadata": {
    "tags": []
   },
   "outputs": [
    {
     "data": {
      "text/plain": [
       "Travel_Rarely        1043\n",
       "Travel_Frequently     277\n",
       "Non-Travel            150\n",
       "Name: BusinessTravel, dtype: int64"
      ]
     },
     "execution_count": 27,
     "metadata": {},
     "output_type": "execute_result"
    }
   ],
   "source": [
    "hr_data.BusinessTravel.value_counts()"
   ]
  },
  {
   "cell_type": "markdown",
   "id": "dad513da-cf06-4475-babe-07bec78c74cf",
   "metadata": {},
   "source": []
  },
  {
   "cell_type": "markdown",
   "id": "c8b80a75-877c-4937-96ab-04a5e04395e5",
   "metadata": {},
   "source": [
    "# Subsetting the data"
   ]
  },
  {
   "cell_type": "markdown",
   "id": "eef8f34e-0043-4b2c-8515-a9b6baf4dffc",
   "metadata": {},
   "source": [
    "## Selecting columns"
   ]
  },
  {
   "cell_type": "markdown",
   "id": "6a5e865a-aa09-4de4-9ca3-7ff3c35199db",
   "metadata": {},
   "source": [
    "Grab an entire column using attribute notation:"
   ]
  },
  {
   "cell_type": "code",
   "execution_count": 3,
   "id": "7cee8b08-9d8c-402d-b198-ece34bae696f",
   "metadata": {
    "tags": []
   },
   "outputs": [
    {
     "data": {
      "text/plain": [
       "0       41\n",
       "1       49\n",
       "2       37\n",
       "3       33\n",
       "4       27\n",
       "        ..\n",
       "1465    36\n",
       "1466    39\n",
       "1467    27\n",
       "1468    49\n",
       "1469    34\n",
       "Name: Age, Length: 1470, dtype: int64"
      ]
     },
     "execution_count": 3,
     "metadata": {},
     "output_type": "execute_result"
    }
   ],
   "source": [
    "hr_data.Age"
   ]
  },
  {
   "cell_type": "markdown",
   "id": "74f8bffc-9294-4066-938a-f5263278e051",
   "metadata": {},
   "source": [
    "Grab an entire column using dictionary syntax:"
   ]
  },
  {
   "cell_type": "code",
   "execution_count": 4,
   "id": "3acf7678-2f57-477d-b97a-c48bb81523d3",
   "metadata": {
    "tags": []
   },
   "outputs": [
    {
     "data": {
      "text/plain": [
       "0       41\n",
       "1       49\n",
       "2       37\n",
       "3       33\n",
       "4       27\n",
       "        ..\n",
       "1465    36\n",
       "1466    39\n",
       "1467    27\n",
       "1468    49\n",
       "1469    34\n",
       "Name: Age, Length: 1470, dtype: int64"
      ]
     },
     "execution_count": 4,
     "metadata": {},
     "output_type": "execute_result"
    }
   ],
   "source": [
    "hr_data['Age']"
   ]
  },
  {
   "cell_type": "markdown",
   "id": "8f6be5e5-e504-42c7-9bcb-d8c69c9e65cd",
   "metadata": {},
   "source": [
    "Selecting multiple columns:"
   ]
  },
  {
   "cell_type": "code",
   "execution_count": 7,
   "id": "9c0d1d96-c787-4af6-a8b8-10affdeb6909",
   "metadata": {
    "tags": []
   },
   "outputs": [
    {
     "data": {
      "text/html": [
       "<div>\n",
       "<style scoped>\n",
       "    .dataframe tbody tr th:only-of-type {\n",
       "        vertical-align: middle;\n",
       "    }\n",
       "\n",
       "    .dataframe tbody tr th {\n",
       "        vertical-align: top;\n",
       "    }\n",
       "\n",
       "    .dataframe thead th {\n",
       "        text-align: right;\n",
       "    }\n",
       "</style>\n",
       "<table border=\"1\" class=\"dataframe\">\n",
       "  <thead>\n",
       "    <tr style=\"text-align: right;\">\n",
       "      <th></th>\n",
       "      <th>Age</th>\n",
       "      <th>BusinessTravel</th>\n",
       "    </tr>\n",
       "  </thead>\n",
       "  <tbody>\n",
       "    <tr>\n",
       "      <th>0</th>\n",
       "      <td>41</td>\n",
       "      <td>Travel_Rarely</td>\n",
       "    </tr>\n",
       "    <tr>\n",
       "      <th>1</th>\n",
       "      <td>49</td>\n",
       "      <td>Travel_Frequently</td>\n",
       "    </tr>\n",
       "    <tr>\n",
       "      <th>2</th>\n",
       "      <td>37</td>\n",
       "      <td>Travel_Rarely</td>\n",
       "    </tr>\n",
       "    <tr>\n",
       "      <th>3</th>\n",
       "      <td>33</td>\n",
       "      <td>Travel_Frequently</td>\n",
       "    </tr>\n",
       "    <tr>\n",
       "      <th>4</th>\n",
       "      <td>27</td>\n",
       "      <td>Travel_Rarely</td>\n",
       "    </tr>\n",
       "    <tr>\n",
       "      <th>...</th>\n",
       "      <td>...</td>\n",
       "      <td>...</td>\n",
       "    </tr>\n",
       "    <tr>\n",
       "      <th>1465</th>\n",
       "      <td>36</td>\n",
       "      <td>Travel_Frequently</td>\n",
       "    </tr>\n",
       "    <tr>\n",
       "      <th>1466</th>\n",
       "      <td>39</td>\n",
       "      <td>Travel_Rarely</td>\n",
       "    </tr>\n",
       "    <tr>\n",
       "      <th>1467</th>\n",
       "      <td>27</td>\n",
       "      <td>Travel_Rarely</td>\n",
       "    </tr>\n",
       "    <tr>\n",
       "      <th>1468</th>\n",
       "      <td>49</td>\n",
       "      <td>Travel_Frequently</td>\n",
       "    </tr>\n",
       "    <tr>\n",
       "      <th>1469</th>\n",
       "      <td>34</td>\n",
       "      <td>Travel_Rarely</td>\n",
       "    </tr>\n",
       "  </tbody>\n",
       "</table>\n",
       "<p>1470 rows × 2 columns</p>\n",
       "</div>"
      ],
      "text/plain": [
       "      Age     BusinessTravel\n",
       "0      41      Travel_Rarely\n",
       "1      49  Travel_Frequently\n",
       "2      37      Travel_Rarely\n",
       "3      33  Travel_Frequently\n",
       "4      27      Travel_Rarely\n",
       "...   ...                ...\n",
       "1465   36  Travel_Frequently\n",
       "1466   39      Travel_Rarely\n",
       "1467   27      Travel_Rarely\n",
       "1468   49  Travel_Frequently\n",
       "1469   34      Travel_Rarely\n",
       "\n",
       "[1470 rows x 2 columns]"
      ]
     },
     "execution_count": 7,
     "metadata": {},
     "output_type": "execute_result"
    }
   ],
   "source": [
    "hr_data[['Age', 'BusinessTravel']]"
   ]
  },
  {
   "cell_type": "markdown",
   "id": "f9141ef6-79ae-4927-8d7b-eb808fbfb26f",
   "metadata": {},
   "source": [
    "## Slicing\n",
    "\n",
    "### Selecting rows\n",
    "\n",
    "Using row numbers (inclusive of first index, exclusive of last):"
   ]
  },
  {
   "cell_type": "code",
   "execution_count": 8,
   "id": "0b7116e7-c2f0-4d47-97b7-91b1290a80e1",
   "metadata": {
    "tags": []
   },
   "outputs": [
    {
     "data": {
      "text/html": [
       "<div>\n",
       "<style scoped>\n",
       "    .dataframe tbody tr th:only-of-type {\n",
       "        vertical-align: middle;\n",
       "    }\n",
       "\n",
       "    .dataframe tbody tr th {\n",
       "        vertical-align: top;\n",
       "    }\n",
       "\n",
       "    .dataframe thead th {\n",
       "        text-align: right;\n",
       "    }\n",
       "</style>\n",
       "<table border=\"1\" class=\"dataframe\">\n",
       "  <thead>\n",
       "    <tr style=\"text-align: right;\">\n",
       "      <th></th>\n",
       "      <th>Age</th>\n",
       "      <th>BusinessTravel</th>\n",
       "      <th>DailyRate</th>\n",
       "      <th>CostOfHiring</th>\n",
       "      <th>Department</th>\n",
       "      <th>Education</th>\n",
       "      <th>EducationField</th>\n",
       "      <th>EnvironmentSatisfaction</th>\n",
       "      <th>Gender</th>\n",
       "      <th>JobRole</th>\n",
       "      <th>...</th>\n",
       "      <th>MonthlyIncome</th>\n",
       "      <th>NumCompaniesWorked</th>\n",
       "      <th>OverTime</th>\n",
       "      <th>PerformanceRating</th>\n",
       "      <th>TotalWorkingYears</th>\n",
       "      <th>TrainingTimesLastYear</th>\n",
       "      <th>YearsAtCompany</th>\n",
       "      <th>YearsSinceLastPromotion</th>\n",
       "      <th>YearsWithCurrManager</th>\n",
       "      <th>Attrition</th>\n",
       "    </tr>\n",
       "  </thead>\n",
       "  <tbody>\n",
       "    <tr>\n",
       "      <th>100</th>\n",
       "      <td>37</td>\n",
       "      <td>Travel_Rarely</td>\n",
       "      <td>807</td>\n",
       "      <td>2488</td>\n",
       "      <td>Human Resources</td>\n",
       "      <td>Master</td>\n",
       "      <td>Human Resources</td>\n",
       "      <td>High</td>\n",
       "      <td>Male</td>\n",
       "      <td>Human Resources</td>\n",
       "      <td>...</td>\n",
       "      <td>2073</td>\n",
       "      <td>4</td>\n",
       "      <td>Yes</td>\n",
       "      <td>Outstanding</td>\n",
       "      <td>7</td>\n",
       "      <td>3</td>\n",
       "      <td>3</td>\n",
       "      <td>0</td>\n",
       "      <td>2</td>\n",
       "      <td>Yes</td>\n",
       "    </tr>\n",
       "    <tr>\n",
       "      <th>101</th>\n",
       "      <td>32</td>\n",
       "      <td>Travel_Rarely</td>\n",
       "      <td>827</td>\n",
       "      <td>3547</td>\n",
       "      <td>Research &amp; Development</td>\n",
       "      <td>Below College</td>\n",
       "      <td>Life Sciences</td>\n",
       "      <td>Very High</td>\n",
       "      <td>Male</td>\n",
       "      <td>Research Scientist</td>\n",
       "      <td>...</td>\n",
       "      <td>2956</td>\n",
       "      <td>1</td>\n",
       "      <td>No</td>\n",
       "      <td>Excellent</td>\n",
       "      <td>1</td>\n",
       "      <td>2</td>\n",
       "      <td>1</td>\n",
       "      <td>0</td>\n",
       "      <td>0</td>\n",
       "      <td>No</td>\n",
       "    </tr>\n",
       "    <tr>\n",
       "      <th>102</th>\n",
       "      <td>20</td>\n",
       "      <td>Travel_Frequently</td>\n",
       "      <td>871</td>\n",
       "      <td>3511</td>\n",
       "      <td>Research &amp; Development</td>\n",
       "      <td>Bachelor</td>\n",
       "      <td>Life Sciences</td>\n",
       "      <td>Very High</td>\n",
       "      <td>Female</td>\n",
       "      <td>Laboratory Technician</td>\n",
       "      <td>...</td>\n",
       "      <td>2926</td>\n",
       "      <td>1</td>\n",
       "      <td>Yes</td>\n",
       "      <td>Excellent</td>\n",
       "      <td>1</td>\n",
       "      <td>5</td>\n",
       "      <td>1</td>\n",
       "      <td>1</td>\n",
       "      <td>0</td>\n",
       "      <td>Yes</td>\n",
       "    </tr>\n",
       "  </tbody>\n",
       "</table>\n",
       "<p>3 rows × 22 columns</p>\n",
       "</div>"
      ],
      "text/plain": [
       "     Age     BusinessTravel  DailyRate  CostOfHiring              Department  \\\n",
       "100   37      Travel_Rarely        807          2488         Human Resources   \n",
       "101   32      Travel_Rarely        827          3547  Research & Development   \n",
       "102   20  Travel_Frequently        871          3511  Research & Development   \n",
       "\n",
       "         Education   EducationField EnvironmentSatisfaction  Gender  \\\n",
       "100         Master  Human Resources                    High    Male   \n",
       "101  Below College    Life Sciences               Very High    Male   \n",
       "102       Bachelor    Life Sciences               Very High  Female   \n",
       "\n",
       "                   JobRole  ... MonthlyIncome NumCompaniesWorked  OverTime  \\\n",
       "100        Human Resources  ...          2073                  4       Yes   \n",
       "101     Research Scientist  ...          2956                  1        No   \n",
       "102  Laboratory Technician  ...          2926                  1       Yes   \n",
       "\n",
       "     PerformanceRating TotalWorkingYears TrainingTimesLastYear  \\\n",
       "100        Outstanding                 7                     3   \n",
       "101          Excellent                 1                     2   \n",
       "102          Excellent                 1                     5   \n",
       "\n",
       "     YearsAtCompany  YearsSinceLastPromotion  YearsWithCurrManager  Attrition  \n",
       "100               3                        0                     2        Yes  \n",
       "101               1                        0                     0         No  \n",
       "102               1                        1                     0        Yes  \n",
       "\n",
       "[3 rows x 22 columns]"
      ]
     },
     "execution_count": 8,
     "metadata": {},
     "output_type": "execute_result"
    }
   ],
   "source": [
    "hr_data[100:103]"
   ]
  },
  {
   "cell_type": "markdown",
   "id": "d9126c85-a4fd-40b0-be23-a95ffa8ca4a4",
   "metadata": {},
   "source": [
    "### Selecting rows and columns with chaining"
   ]
  },
  {
   "cell_type": "code",
   "execution_count": 9,
   "id": "782fd143-916f-48c9-abc0-bbcddec87707",
   "metadata": {
    "tags": []
   },
   "outputs": [
    {
     "data": {
      "text/html": [
       "<div>\n",
       "<style scoped>\n",
       "    .dataframe tbody tr th:only-of-type {\n",
       "        vertical-align: middle;\n",
       "    }\n",
       "\n",
       "    .dataframe tbody tr th {\n",
       "        vertical-align: top;\n",
       "    }\n",
       "\n",
       "    .dataframe thead th {\n",
       "        text-align: right;\n",
       "    }\n",
       "</style>\n",
       "<table border=\"1\" class=\"dataframe\">\n",
       "  <thead>\n",
       "    <tr style=\"text-align: right;\">\n",
       "      <th></th>\n",
       "      <th>Age</th>\n",
       "      <th>BusinessTravel</th>\n",
       "    </tr>\n",
       "  </thead>\n",
       "  <tbody>\n",
       "    <tr>\n",
       "      <th>100</th>\n",
       "      <td>37</td>\n",
       "      <td>Travel_Rarely</td>\n",
       "    </tr>\n",
       "    <tr>\n",
       "      <th>101</th>\n",
       "      <td>32</td>\n",
       "      <td>Travel_Rarely</td>\n",
       "    </tr>\n",
       "    <tr>\n",
       "      <th>102</th>\n",
       "      <td>20</td>\n",
       "      <td>Travel_Frequently</td>\n",
       "    </tr>\n",
       "  </tbody>\n",
       "</table>\n",
       "</div>"
      ],
      "text/plain": [
       "     Age     BusinessTravel\n",
       "100   37      Travel_Rarely\n",
       "101   32      Travel_Rarely\n",
       "102   20  Travel_Frequently"
      ]
     },
     "execution_count": 9,
     "metadata": {},
     "output_type": "execute_result"
    }
   ],
   "source": [
    "hr_data[['Age','BusinessTravel']][100:103]"
   ]
  },
  {
   "cell_type": "markdown",
   "id": "0a2c33b6-8c8d-4d49-8365-4cb900c18cb1",
   "metadata": {},
   "source": [
    "Order doesn't matter here:"
   ]
  },
  {
   "cell_type": "code",
   "execution_count": 10,
   "id": "6ebad76b-f61d-40bb-a934-f0aec4749a23",
   "metadata": {
    "tags": []
   },
   "outputs": [
    {
     "data": {
      "text/plain": [
       "True"
      ]
     },
     "execution_count": 10,
     "metadata": {},
     "output_type": "execute_result"
    }
   ],
   "source": [
    "hr_data[['Age','BusinessTravel']][100:103].equals(hr_data[100:103][['Age','BusinessTravel']])"
   ]
  },
  {
   "cell_type": "markdown",
   "id": "b835d1cd-c6d6-464d-b191-f28eca98a3e5",
   "metadata": {},
   "source": [
    "So we know how to select rows and columns, but can we update values? Well, if we try using what we have learned so far, we will see the following warning:"
   ]
  },
  {
   "cell_type": "code",
   "execution_count": 11,
   "id": "6eda9588-8f7f-4242-b57a-72f16cfec9f5",
   "metadata": {
    "tags": []
   },
   "outputs": [
    {
     "name": "stderr",
     "output_type": "stream",
     "text": [
      "/tmp/ipykernel_3905/948108015.py:1: SettingWithCopyWarning: \n",
      "A value is trying to be set on a copy of a slice from a DataFrame\n",
      "\n",
      "See the caveats in the documentation: https://pandas.pydata.org/pandas-docs/stable/user_guide/indexing.html#returning-a-view-versus-a-copy\n",
      "  hr_data['BusinessTravel'][100:103] = hr_data['BusinessTravel'][100:103].str.lower()\n"
     ]
    }
   ],
   "source": [
    "hr_data['BusinessTravel'][100:103] = hr_data['BusinessTravel'][100:103].str.lower()"
   ]
  },
  {
   "cell_type": "code",
   "execution_count": 12,
   "id": "3ceb7086-14fc-42bf-ab5f-edd10aaa2855",
   "metadata": {
    "tags": []
   },
   "outputs": [
    {
     "data": {
      "text/plain": [
       "100        travel_rarely\n",
       "101        travel_rarely\n",
       "102    travel_frequently\n",
       "Name: BusinessTravel, dtype: object"
      ]
     },
     "execution_count": 12,
     "metadata": {},
     "output_type": "execute_result"
    }
   ],
   "source": [
    "hr_data['BusinessTravel'][100:103]"
   ]
  },
  {
   "cell_type": "markdown",
   "id": "4c24cc4d-6e14-4108-a97d-8554f968fcaa",
   "metadata": {},
   "source": []
  },
  {
   "cell_type": "markdown",
   "id": "f2d4d27b-e06e-4bee-be88-bbe6ccd298ae",
   "metadata": {},
   "source": [
    "## Indexing\n",
    "\n",
    "Now if we do this with loc as the warning suggests, everything goes smoothly. Note we have to lower the end index by one since loc is inclusive of endpoints:"
   ]
  },
  {
   "cell_type": "code",
   "execution_count": 15,
   "id": "92e5199e-5cb0-40ac-8000-9b86f9ee4b56",
   "metadata": {
    "tags": []
   },
   "outputs": [],
   "source": [
    "hr_data.loc[100:103, 'Gender'] = hr_data.loc[100:103, 'Gender'].str.lower()"
   ]
  },
  {
   "cell_type": "code",
   "execution_count": 16,
   "id": "e08a973f-f053-4565-863c-768571651e46",
   "metadata": {
    "tags": []
   },
   "outputs": [
    {
     "data": {
      "text/plain": [
       "100      male\n",
       "101      male\n",
       "102    female\n",
       "103    female\n",
       "Name: Gender, dtype: object"
      ]
     },
     "execution_count": 16,
     "metadata": {},
     "output_type": "execute_result"
    }
   ],
   "source": [
    "hr_data.loc[100:103, 'Gender']"
   ]
  },
  {
   "cell_type": "markdown",
   "id": "d38d2cf3-c238-48ab-9e2d-2e4070fb20f6",
   "metadata": {},
   "source": [
    "### Indexing with loc\n",
    "\n",
    "Selection of the format loc[row_indexer, column_indexer] where : can be used to select all:"
   ]
  },
  {
   "cell_type": "code",
   "execution_count": 19,
   "id": "dfabce14-4200-4080-bbf6-dc53e106e849",
   "metadata": {
    "tags": []
   },
   "outputs": [
    {
     "data": {
      "text/plain": [
       "0       Female\n",
       "1         Male\n",
       "2         Male\n",
       "3       Female\n",
       "4         Male\n",
       "         ...  \n",
       "1465      Male\n",
       "1466      Male\n",
       "1467      Male\n",
       "1468      Male\n",
       "1469      Male\n",
       "Name: Gender, Length: 1470, dtype: object"
      ]
     },
     "execution_count": 19,
     "metadata": {},
     "output_type": "execute_result"
    }
   ],
   "source": [
    "hr_data.loc[:,'Gender']"
   ]
  },
  {
   "cell_type": "markdown",
   "id": "4a3905ba-cc5b-404b-ab87-145704072d74",
   "metadata": {},
   "source": []
  },
  {
   "cell_type": "markdown",
   "id": "8e2b510e-41a9-45f3-8748-2b16e5cde26a",
   "metadata": {},
   "source": [
    "We can use loc to select specific rows and columns without chaining. If we use row numbers with loc, they are now inclusive of the end index:"
   ]
  },
  {
   "cell_type": "code",
   "execution_count": 20,
   "id": "dfab17b7-7174-4c5c-bba0-b39997781419",
   "metadata": {
    "tags": []
   },
   "outputs": [
    {
     "data": {
      "text/html": [
       "<div>\n",
       "<style scoped>\n",
       "    .dataframe tbody tr th:only-of-type {\n",
       "        vertical-align: middle;\n",
       "    }\n",
       "\n",
       "    .dataframe tbody tr th {\n",
       "        vertical-align: top;\n",
       "    }\n",
       "\n",
       "    .dataframe thead th {\n",
       "        text-align: right;\n",
       "    }\n",
       "</style>\n",
       "<table border=\"1\" class=\"dataframe\">\n",
       "  <thead>\n",
       "    <tr style=\"text-align: right;\">\n",
       "      <th></th>\n",
       "      <th>Age</th>\n",
       "      <th>BusinessTravel</th>\n",
       "    </tr>\n",
       "  </thead>\n",
       "  <tbody>\n",
       "    <tr>\n",
       "      <th>100</th>\n",
       "      <td>37</td>\n",
       "      <td>travel_rarely</td>\n",
       "    </tr>\n",
       "    <tr>\n",
       "      <th>101</th>\n",
       "      <td>32</td>\n",
       "      <td>travel_rarely</td>\n",
       "    </tr>\n",
       "    <tr>\n",
       "      <th>102</th>\n",
       "      <td>20</td>\n",
       "      <td>travel_frequently</td>\n",
       "    </tr>\n",
       "    <tr>\n",
       "      <th>103</th>\n",
       "      <td>34</td>\n",
       "      <td>Travel_Rarely</td>\n",
       "    </tr>\n",
       "  </tbody>\n",
       "</table>\n",
       "</div>"
      ],
      "text/plain": [
       "     Age     BusinessTravel\n",
       "100   37      travel_rarely\n",
       "101   32      travel_rarely\n",
       "102   20  travel_frequently\n",
       "103   34      Travel_Rarely"
      ]
     },
     "execution_count": 20,
     "metadata": {},
     "output_type": "execute_result"
    }
   ],
   "source": [
    "hr_data.loc[100:103,['Age','BusinessTravel']]"
   ]
  },
  {
   "cell_type": "markdown",
   "id": "87c38b48-d2d8-4309-866f-476e690e6dc6",
   "metadata": {},
   "source": [
    "#### Indexing with iloc\n",
    "\n",
    "Exclusive of the endpoint just as Python slicing:"
   ]
  },
  {
   "cell_type": "code",
   "execution_count": 23,
   "id": "44c4f6eb-05c2-40ac-8c53-2e9eed4ccae4",
   "metadata": {
    "tags": []
   },
   "outputs": [
    {
     "data": {
      "text/html": [
       "<div>\n",
       "<style scoped>\n",
       "    .dataframe tbody tr th:only-of-type {\n",
       "        vertical-align: middle;\n",
       "    }\n",
       "\n",
       "    .dataframe tbody tr th {\n",
       "        vertical-align: top;\n",
       "    }\n",
       "\n",
       "    .dataframe thead th {\n",
       "        text-align: right;\n",
       "    }\n",
       "</style>\n",
       "<table border=\"1\" class=\"dataframe\">\n",
       "  <thead>\n",
       "    <tr style=\"text-align: right;\">\n",
       "      <th></th>\n",
       "      <th>CostOfHiring</th>\n",
       "      <th>EducationField</th>\n",
       "    </tr>\n",
       "  </thead>\n",
       "  <tbody>\n",
       "    <tr>\n",
       "      <th>100</th>\n",
       "      <td>2488</td>\n",
       "      <td>Human Resources</td>\n",
       "    </tr>\n",
       "    <tr>\n",
       "      <th>101</th>\n",
       "      <td>3547</td>\n",
       "      <td>Life Sciences</td>\n",
       "    </tr>\n",
       "    <tr>\n",
       "      <th>102</th>\n",
       "      <td>3511</td>\n",
       "      <td>Life Sciences</td>\n",
       "    </tr>\n",
       "  </tbody>\n",
       "</table>\n",
       "</div>"
      ],
      "text/plain": [
       "     CostOfHiring   EducationField\n",
       "100          2488  Human Resources\n",
       "101          3547    Life Sciences\n",
       "102          3511    Life Sciences"
      ]
     },
     "execution_count": 23,
     "metadata": {},
     "output_type": "execute_result"
    }
   ],
   "source": [
    "hr_data.iloc[100:103, [3,6]]"
   ]
  },
  {
   "cell_type": "markdown",
   "id": "b3c1703f-0f87-4bec-8e46-c01abe2713d9",
   "metadata": {},
   "source": [
    "We can use slicing syntax with iloc for both rows and columns:"
   ]
  },
  {
   "cell_type": "code",
   "execution_count": 24,
   "id": "7e5384ad-0378-462e-bff9-febf6d70d3ac",
   "metadata": {
    "tags": []
   },
   "outputs": [
    {
     "data": {
      "text/html": [
       "<div>\n",
       "<style scoped>\n",
       "    .dataframe tbody tr th:only-of-type {\n",
       "        vertical-align: middle;\n",
       "    }\n",
       "\n",
       "    .dataframe tbody tr th {\n",
       "        vertical-align: top;\n",
       "    }\n",
       "\n",
       "    .dataframe thead th {\n",
       "        text-align: right;\n",
       "    }\n",
       "</style>\n",
       "<table border=\"1\" class=\"dataframe\">\n",
       "  <thead>\n",
       "    <tr style=\"text-align: right;\">\n",
       "      <th></th>\n",
       "      <th>DailyRate</th>\n",
       "      <th>CostOfHiring</th>\n",
       "      <th>Department</th>\n",
       "      <th>Education</th>\n",
       "    </tr>\n",
       "  </thead>\n",
       "  <tbody>\n",
       "    <tr>\n",
       "      <th>100</th>\n",
       "      <td>807</td>\n",
       "      <td>2488</td>\n",
       "      <td>Human Resources</td>\n",
       "      <td>Master</td>\n",
       "    </tr>\n",
       "    <tr>\n",
       "      <th>101</th>\n",
       "      <td>827</td>\n",
       "      <td>3547</td>\n",
       "      <td>Research &amp; Development</td>\n",
       "      <td>Below College</td>\n",
       "    </tr>\n",
       "    <tr>\n",
       "      <th>102</th>\n",
       "      <td>871</td>\n",
       "      <td>3511</td>\n",
       "      <td>Research &amp; Development</td>\n",
       "      <td>Bachelor</td>\n",
       "    </tr>\n",
       "  </tbody>\n",
       "</table>\n",
       "</div>"
      ],
      "text/plain": [
       "     DailyRate  CostOfHiring              Department      Education\n",
       "100        807          2488         Human Resources         Master\n",
       "101        827          3547  Research & Development  Below College\n",
       "102        871          3511  Research & Development       Bachelor"
      ]
     },
     "execution_count": 24,
     "metadata": {},
     "output_type": "execute_result"
    }
   ],
   "source": [
    "hr_data.iloc[100:103, 2:6]"
   ]
  },
  {
   "cell_type": "markdown",
   "id": "bacd7e25-c400-42d5-a067-502e0fce427d",
   "metadata": {},
   "source": [
    "When using loc, we can slice on column names. This will be inclusive of the endpoint because you can't be expected to know what the next column name will be. As such, we have multiple ways to achieve the same end goal:"
   ]
  },
  {
   "cell_type": "code",
   "execution_count": 27,
   "id": "ac034025-bf3c-49a7-ad3e-0edfbd8aeed2",
   "metadata": {
    "tags": []
   },
   "outputs": [
    {
     "data": {
      "text/plain": [
       "True"
      ]
     },
     "execution_count": 27,
     "metadata": {},
     "output_type": "execute_result"
    }
   ],
   "source": [
    "hr_data.iloc[100:103, 2:6].equals(hr_data.loc[100:102, 'DailyRate':'Education'])"
   ]
  },
  {
   "cell_type": "markdown",
   "id": "e8233773-8ade-46d5-abb5-c7ce25c0b986",
   "metadata": {},
   "source": [
    "### Looking up scalar values\n",
    "\n",
    "We used loc and iloc to grab subsets of the dataframe. However, if we are just interested in the specific value at a given [row, column], then we can use iat and at. We use at with labels:"
   ]
  },
  {
   "cell_type": "code",
   "execution_count": 29,
   "id": "56daeff8-f8c8-4038-a573-1a6cc71eee16",
   "metadata": {
    "tags": []
   },
   "outputs": [
    {
     "data": {
      "text/plain": [
       "827"
      ]
     },
     "execution_count": 29,
     "metadata": {},
     "output_type": "execute_result"
    }
   ],
   "source": [
    "hr_data.at[101,'DailyRate']"
   ]
  },
  {
   "cell_type": "markdown",
   "id": "6cfe716c-d4e5-414c-9477-ea90e869b289",
   "metadata": {},
   "source": [
    "...and iat with integer indices:"
   ]
  },
  {
   "cell_type": "code",
   "execution_count": 31,
   "id": "bea73d42-e70b-4367-a053-55c58ff3c72e",
   "metadata": {
    "tags": []
   },
   "outputs": [
    {
     "data": {
      "text/plain": [
       "827"
      ]
     },
     "execution_count": 31,
     "metadata": {},
     "output_type": "execute_result"
    }
   ],
   "source": [
    "hr_data.iat[101,2]"
   ]
  },
  {
   "cell_type": "markdown",
   "id": "e16feeee-0278-4e7f-b38c-fcd0ba44bd1a",
   "metadata": {},
   "source": [
    "## Filtering\n",
    "\n",
    "We can filter our dataframes using a Boolean mask, which can be made as follows:"
   ]
  },
  {
   "cell_type": "code",
   "execution_count": 32,
   "id": "a0815c57-712a-417a-8b12-4f036d99f756",
   "metadata": {
    "tags": []
   },
   "outputs": [
    {
     "data": {
      "text/plain": [
       "0        True\n",
       "1        True\n",
       "2        True\n",
       "3        True\n",
       "4       False\n",
       "        ...  \n",
       "1465     True\n",
       "1466     True\n",
       "1467    False\n",
       "1468     True\n",
       "1469     True\n",
       "Name: Age, Length: 1470, dtype: bool"
      ]
     },
     "execution_count": 32,
     "metadata": {},
     "output_type": "execute_result"
    }
   ],
   "source": [
    "hr_data.Age>30"
   ]
  },
  {
   "cell_type": "markdown",
   "id": "ac234f89-db45-4d93-98df-bef284d12dce",
   "metadata": {},
   "source": [
    "To use a mask for selection, we simply place it inside the brackets:"
   ]
  },
  {
   "cell_type": "code",
   "execution_count": 33,
   "id": "1c38e416-1871-49a9-b40e-bc2eaaca8c24",
   "metadata": {
    "tags": []
   },
   "outputs": [
    {
     "data": {
      "text/html": [
       "<div>\n",
       "<style scoped>\n",
       "    .dataframe tbody tr th:only-of-type {\n",
       "        vertical-align: middle;\n",
       "    }\n",
       "\n",
       "    .dataframe tbody tr th {\n",
       "        vertical-align: top;\n",
       "    }\n",
       "\n",
       "    .dataframe thead th {\n",
       "        text-align: right;\n",
       "    }\n",
       "</style>\n",
       "<table border=\"1\" class=\"dataframe\">\n",
       "  <thead>\n",
       "    <tr style=\"text-align: right;\">\n",
       "      <th></th>\n",
       "      <th>Age</th>\n",
       "      <th>BusinessTravel</th>\n",
       "      <th>DailyRate</th>\n",
       "      <th>CostOfHiring</th>\n",
       "      <th>Department</th>\n",
       "      <th>Education</th>\n",
       "      <th>EducationField</th>\n",
       "      <th>EnvironmentSatisfaction</th>\n",
       "      <th>Gender</th>\n",
       "      <th>JobRole</th>\n",
       "      <th>...</th>\n",
       "      <th>MonthlyIncome</th>\n",
       "      <th>NumCompaniesWorked</th>\n",
       "      <th>OverTime</th>\n",
       "      <th>PerformanceRating</th>\n",
       "      <th>TotalWorkingYears</th>\n",
       "      <th>TrainingTimesLastYear</th>\n",
       "      <th>YearsAtCompany</th>\n",
       "      <th>YearsSinceLastPromotion</th>\n",
       "      <th>YearsWithCurrManager</th>\n",
       "      <th>Attrition</th>\n",
       "    </tr>\n",
       "  </thead>\n",
       "  <tbody>\n",
       "    <tr>\n",
       "      <th>0</th>\n",
       "      <td>41</td>\n",
       "      <td>Travel_Rarely</td>\n",
       "      <td>1102</td>\n",
       "      <td>7192</td>\n",
       "      <td>Sales</td>\n",
       "      <td>College</td>\n",
       "      <td>Life Sciences</td>\n",
       "      <td>Medium</td>\n",
       "      <td>Female</td>\n",
       "      <td>Sales Executive</td>\n",
       "      <td>...</td>\n",
       "      <td>5993</td>\n",
       "      <td>8</td>\n",
       "      <td>Yes</td>\n",
       "      <td>Excellent</td>\n",
       "      <td>8</td>\n",
       "      <td>0</td>\n",
       "      <td>6</td>\n",
       "      <td>0</td>\n",
       "      <td>5</td>\n",
       "      <td>Yes</td>\n",
       "    </tr>\n",
       "    <tr>\n",
       "      <th>1</th>\n",
       "      <td>49</td>\n",
       "      <td>Travel_Frequently</td>\n",
       "      <td>279</td>\n",
       "      <td>6156</td>\n",
       "      <td>Research &amp; Development</td>\n",
       "      <td>Below College</td>\n",
       "      <td>Life Sciences</td>\n",
       "      <td>High</td>\n",
       "      <td>Male</td>\n",
       "      <td>Research Scientist</td>\n",
       "      <td>...</td>\n",
       "      <td>5130</td>\n",
       "      <td>1</td>\n",
       "      <td>No</td>\n",
       "      <td>Outstanding</td>\n",
       "      <td>10</td>\n",
       "      <td>3</td>\n",
       "      <td>10</td>\n",
       "      <td>1</td>\n",
       "      <td>7</td>\n",
       "      <td>No</td>\n",
       "    </tr>\n",
       "    <tr>\n",
       "      <th>2</th>\n",
       "      <td>37</td>\n",
       "      <td>Travel_Rarely</td>\n",
       "      <td>1373</td>\n",
       "      <td>2508</td>\n",
       "      <td>Research &amp; Development</td>\n",
       "      <td>College</td>\n",
       "      <td>Other</td>\n",
       "      <td>Very High</td>\n",
       "      <td>Male</td>\n",
       "      <td>Laboratory Technician</td>\n",
       "      <td>...</td>\n",
       "      <td>2090</td>\n",
       "      <td>6</td>\n",
       "      <td>Yes</td>\n",
       "      <td>Excellent</td>\n",
       "      <td>7</td>\n",
       "      <td>3</td>\n",
       "      <td>0</td>\n",
       "      <td>0</td>\n",
       "      <td>0</td>\n",
       "      <td>Yes</td>\n",
       "    </tr>\n",
       "    <tr>\n",
       "      <th>6</th>\n",
       "      <td>59</td>\n",
       "      <td>Travel_Rarely</td>\n",
       "      <td>1324</td>\n",
       "      <td>3204</td>\n",
       "      <td>Research &amp; Development</td>\n",
       "      <td>Bachelor</td>\n",
       "      <td>Medical</td>\n",
       "      <td>High</td>\n",
       "      <td>Female</td>\n",
       "      <td>Laboratory Technician</td>\n",
       "      <td>...</td>\n",
       "      <td>2670</td>\n",
       "      <td>4</td>\n",
       "      <td>Yes</td>\n",
       "      <td>Outstanding</td>\n",
       "      <td>12</td>\n",
       "      <td>3</td>\n",
       "      <td>1</td>\n",
       "      <td>0</td>\n",
       "      <td>0</td>\n",
       "      <td>No</td>\n",
       "    </tr>\n",
       "    <tr>\n",
       "      <th>8</th>\n",
       "      <td>38</td>\n",
       "      <td>Travel_Frequently</td>\n",
       "      <td>216</td>\n",
       "      <td>11431</td>\n",
       "      <td>Research &amp; Development</td>\n",
       "      <td>Bachelor</td>\n",
       "      <td>Life Sciences</td>\n",
       "      <td>Very High</td>\n",
       "      <td>Male</td>\n",
       "      <td>Manufacturing Director</td>\n",
       "      <td>...</td>\n",
       "      <td>9526</td>\n",
       "      <td>0</td>\n",
       "      <td>No</td>\n",
       "      <td>Outstanding</td>\n",
       "      <td>10</td>\n",
       "      <td>2</td>\n",
       "      <td>9</td>\n",
       "      <td>1</td>\n",
       "      <td>8</td>\n",
       "      <td>No</td>\n",
       "    </tr>\n",
       "    <tr>\n",
       "      <th>...</th>\n",
       "      <td>...</td>\n",
       "      <td>...</td>\n",
       "      <td>...</td>\n",
       "      <td>...</td>\n",
       "      <td>...</td>\n",
       "      <td>...</td>\n",
       "      <td>...</td>\n",
       "      <td>...</td>\n",
       "      <td>...</td>\n",
       "      <td>...</td>\n",
       "      <td>...</td>\n",
       "      <td>...</td>\n",
       "      <td>...</td>\n",
       "      <td>...</td>\n",
       "      <td>...</td>\n",
       "      <td>...</td>\n",
       "      <td>...</td>\n",
       "      <td>...</td>\n",
       "      <td>...</td>\n",
       "      <td>...</td>\n",
       "      <td>...</td>\n",
       "    </tr>\n",
       "    <tr>\n",
       "      <th>1461</th>\n",
       "      <td>50</td>\n",
       "      <td>Travel_Rarely</td>\n",
       "      <td>410</td>\n",
       "      <td>13025</td>\n",
       "      <td>Sales</td>\n",
       "      <td>Bachelor</td>\n",
       "      <td>Marketing</td>\n",
       "      <td>Very High</td>\n",
       "      <td>Male</td>\n",
       "      <td>Sales Executive</td>\n",
       "      <td>...</td>\n",
       "      <td>10854</td>\n",
       "      <td>4</td>\n",
       "      <td>Yes</td>\n",
       "      <td>Excellent</td>\n",
       "      <td>20</td>\n",
       "      <td>3</td>\n",
       "      <td>3</td>\n",
       "      <td>2</td>\n",
       "      <td>0</td>\n",
       "      <td>Yes</td>\n",
       "    </tr>\n",
       "    <tr>\n",
       "      <th>1462</th>\n",
       "      <td>39</td>\n",
       "      <td>Travel_Rarely</td>\n",
       "      <td>722</td>\n",
       "      <td>14437</td>\n",
       "      <td>Sales</td>\n",
       "      <td>Below College</td>\n",
       "      <td>Marketing</td>\n",
       "      <td>Medium</td>\n",
       "      <td>Female</td>\n",
       "      <td>Sales Executive</td>\n",
       "      <td>...</td>\n",
       "      <td>12031</td>\n",
       "      <td>0</td>\n",
       "      <td>No</td>\n",
       "      <td>Excellent</td>\n",
       "      <td>21</td>\n",
       "      <td>2</td>\n",
       "      <td>20</td>\n",
       "      <td>9</td>\n",
       "      <td>6</td>\n",
       "      <td>No</td>\n",
       "    </tr>\n",
       "    <tr>\n",
       "      <th>1465</th>\n",
       "      <td>36</td>\n",
       "      <td>Travel_Frequently</td>\n",
       "      <td>884</td>\n",
       "      <td>3085</td>\n",
       "      <td>Research &amp; Development</td>\n",
       "      <td>College</td>\n",
       "      <td>Medical</td>\n",
       "      <td>High</td>\n",
       "      <td>Male</td>\n",
       "      <td>Laboratory Technician</td>\n",
       "      <td>...</td>\n",
       "      <td>2571</td>\n",
       "      <td>4</td>\n",
       "      <td>No</td>\n",
       "      <td>Excellent</td>\n",
       "      <td>17</td>\n",
       "      <td>3</td>\n",
       "      <td>5</td>\n",
       "      <td>0</td>\n",
       "      <td>3</td>\n",
       "      <td>No</td>\n",
       "    </tr>\n",
       "    <tr>\n",
       "      <th>1466</th>\n",
       "      <td>39</td>\n",
       "      <td>Travel_Rarely</td>\n",
       "      <td>613</td>\n",
       "      <td>11989</td>\n",
       "      <td>Research &amp; Development</td>\n",
       "      <td>Below College</td>\n",
       "      <td>Medical</td>\n",
       "      <td>Very High</td>\n",
       "      <td>Male</td>\n",
       "      <td>Healthcare Representative</td>\n",
       "      <td>...</td>\n",
       "      <td>9991</td>\n",
       "      <td>4</td>\n",
       "      <td>No</td>\n",
       "      <td>Excellent</td>\n",
       "      <td>9</td>\n",
       "      <td>5</td>\n",
       "      <td>7</td>\n",
       "      <td>1</td>\n",
       "      <td>7</td>\n",
       "      <td>No</td>\n",
       "    </tr>\n",
       "    <tr>\n",
       "      <th>1468</th>\n",
       "      <td>49</td>\n",
       "      <td>Travel_Frequently</td>\n",
       "      <td>1023</td>\n",
       "      <td>6468</td>\n",
       "      <td>Sales</td>\n",
       "      <td>Bachelor</td>\n",
       "      <td>Medical</td>\n",
       "      <td>Very High</td>\n",
       "      <td>Male</td>\n",
       "      <td>Sales Executive</td>\n",
       "      <td>...</td>\n",
       "      <td>5390</td>\n",
       "      <td>2</td>\n",
       "      <td>No</td>\n",
       "      <td>Excellent</td>\n",
       "      <td>17</td>\n",
       "      <td>3</td>\n",
       "      <td>9</td>\n",
       "      <td>0</td>\n",
       "      <td>8</td>\n",
       "      <td>No</td>\n",
       "    </tr>\n",
       "  </tbody>\n",
       "</table>\n",
       "<p>819 rows × 22 columns</p>\n",
       "</div>"
      ],
      "text/plain": [
       "      Age     BusinessTravel  DailyRate  CostOfHiring              Department  \\\n",
       "0      41      Travel_Rarely       1102          7192                   Sales   \n",
       "1      49  Travel_Frequently        279          6156  Research & Development   \n",
       "2      37      Travel_Rarely       1373          2508  Research & Development   \n",
       "6      59      Travel_Rarely       1324          3204  Research & Development   \n",
       "8      38  Travel_Frequently        216         11431  Research & Development   \n",
       "...   ...                ...        ...           ...                     ...   \n",
       "1461   50      Travel_Rarely        410         13025                   Sales   \n",
       "1462   39      Travel_Rarely        722         14437                   Sales   \n",
       "1465   36  Travel_Frequently        884          3085  Research & Development   \n",
       "1466   39      Travel_Rarely        613         11989  Research & Development   \n",
       "1468   49  Travel_Frequently       1023          6468                   Sales   \n",
       "\n",
       "          Education EducationField EnvironmentSatisfaction  Gender  \\\n",
       "0           College  Life Sciences                  Medium  Female   \n",
       "1     Below College  Life Sciences                    High    Male   \n",
       "2           College          Other               Very High    Male   \n",
       "6          Bachelor        Medical                    High  Female   \n",
       "8          Bachelor  Life Sciences               Very High    Male   \n",
       "...             ...            ...                     ...     ...   \n",
       "1461       Bachelor      Marketing               Very High    Male   \n",
       "1462  Below College      Marketing                  Medium  Female   \n",
       "1465        College        Medical                    High    Male   \n",
       "1466  Below College        Medical               Very High    Male   \n",
       "1468       Bachelor        Medical               Very High    Male   \n",
       "\n",
       "                        JobRole  ... MonthlyIncome NumCompaniesWorked  \\\n",
       "0               Sales Executive  ...          5993                  8   \n",
       "1            Research Scientist  ...          5130                  1   \n",
       "2         Laboratory Technician  ...          2090                  6   \n",
       "6         Laboratory Technician  ...          2670                  4   \n",
       "8        Manufacturing Director  ...          9526                  0   \n",
       "...                         ...  ...           ...                ...   \n",
       "1461            Sales Executive  ...         10854                  4   \n",
       "1462            Sales Executive  ...         12031                  0   \n",
       "1465      Laboratory Technician  ...          2571                  4   \n",
       "1466  Healthcare Representative  ...          9991                  4   \n",
       "1468            Sales Executive  ...          5390                  2   \n",
       "\n",
       "      OverTime  PerformanceRating TotalWorkingYears TrainingTimesLastYear  \\\n",
       "0          Yes          Excellent                 8                     0   \n",
       "1           No        Outstanding                10                     3   \n",
       "2          Yes          Excellent                 7                     3   \n",
       "6          Yes        Outstanding                12                     3   \n",
       "8           No        Outstanding                10                     2   \n",
       "...        ...                ...               ...                   ...   \n",
       "1461       Yes          Excellent                20                     3   \n",
       "1462        No          Excellent                21                     2   \n",
       "1465        No          Excellent                17                     3   \n",
       "1466        No          Excellent                 9                     5   \n",
       "1468        No          Excellent                17                     3   \n",
       "\n",
       "      YearsAtCompany  YearsSinceLastPromotion  YearsWithCurrManager  Attrition  \n",
       "0                  6                        0                     5        Yes  \n",
       "1                 10                        1                     7         No  \n",
       "2                  0                        0                     0        Yes  \n",
       "6                  1                        0                     0         No  \n",
       "8                  9                        1                     8         No  \n",
       "...              ...                      ...                   ...        ...  \n",
       "1461               3                        2                     0        Yes  \n",
       "1462              20                        9                     6         No  \n",
       "1465               5                        0                     3         No  \n",
       "1466               7                        1                     7         No  \n",
       "1468               9                        0                     8         No  \n",
       "\n",
       "[819 rows x 22 columns]"
      ]
     },
     "execution_count": 33,
     "metadata": {},
     "output_type": "execute_result"
    }
   ],
   "source": [
    "hr_data[hr_data.Age >= 35]"
   ]
  },
  {
   "cell_type": "markdown",
   "id": "173ca205-d582-42bf-b6a5-9c31f7a40bf1",
   "metadata": {},
   "source": [
    "We can use masks with loc:"
   ]
  },
  {
   "cell_type": "code",
   "execution_count": 35,
   "id": "5018793c-b088-4842-8328-b38f222c22c4",
   "metadata": {
    "tags": []
   },
   "outputs": [
    {
     "data": {
      "text/html": [
       "<div>\n",
       "<style scoped>\n",
       "    .dataframe tbody tr th:only-of-type {\n",
       "        vertical-align: middle;\n",
       "    }\n",
       "\n",
       "    .dataframe tbody tr th {\n",
       "        vertical-align: top;\n",
       "    }\n",
       "\n",
       "    .dataframe thead th {\n",
       "        text-align: right;\n",
       "    }\n",
       "</style>\n",
       "<table border=\"1\" class=\"dataframe\">\n",
       "  <thead>\n",
       "    <tr style=\"text-align: right;\">\n",
       "      <th></th>\n",
       "      <th>Age</th>\n",
       "      <th>BusinessTravel</th>\n",
       "      <th>Department</th>\n",
       "      <th>Education</th>\n",
       "    </tr>\n",
       "  </thead>\n",
       "  <tbody>\n",
       "    <tr>\n",
       "      <th>0</th>\n",
       "      <td>41</td>\n",
       "      <td>Travel_Rarely</td>\n",
       "      <td>Sales</td>\n",
       "      <td>College</td>\n",
       "    </tr>\n",
       "    <tr>\n",
       "      <th>1</th>\n",
       "      <td>49</td>\n",
       "      <td>Travel_Frequently</td>\n",
       "      <td>Research &amp; Development</td>\n",
       "      <td>Below College</td>\n",
       "    </tr>\n",
       "    <tr>\n",
       "      <th>2</th>\n",
       "      <td>37</td>\n",
       "      <td>Travel_Rarely</td>\n",
       "      <td>Research &amp; Development</td>\n",
       "      <td>College</td>\n",
       "    </tr>\n",
       "    <tr>\n",
       "      <th>6</th>\n",
       "      <td>59</td>\n",
       "      <td>Travel_Rarely</td>\n",
       "      <td>Research &amp; Development</td>\n",
       "      <td>Bachelor</td>\n",
       "    </tr>\n",
       "    <tr>\n",
       "      <th>8</th>\n",
       "      <td>38</td>\n",
       "      <td>Travel_Frequently</td>\n",
       "      <td>Research &amp; Development</td>\n",
       "      <td>Bachelor</td>\n",
       "    </tr>\n",
       "    <tr>\n",
       "      <th>...</th>\n",
       "      <td>...</td>\n",
       "      <td>...</td>\n",
       "      <td>...</td>\n",
       "      <td>...</td>\n",
       "    </tr>\n",
       "    <tr>\n",
       "      <th>1461</th>\n",
       "      <td>50</td>\n",
       "      <td>Travel_Rarely</td>\n",
       "      <td>Sales</td>\n",
       "      <td>Bachelor</td>\n",
       "    </tr>\n",
       "    <tr>\n",
       "      <th>1462</th>\n",
       "      <td>39</td>\n",
       "      <td>Travel_Rarely</td>\n",
       "      <td>Sales</td>\n",
       "      <td>Below College</td>\n",
       "    </tr>\n",
       "    <tr>\n",
       "      <th>1465</th>\n",
       "      <td>36</td>\n",
       "      <td>Travel_Frequently</td>\n",
       "      <td>Research &amp; Development</td>\n",
       "      <td>College</td>\n",
       "    </tr>\n",
       "    <tr>\n",
       "      <th>1466</th>\n",
       "      <td>39</td>\n",
       "      <td>Travel_Rarely</td>\n",
       "      <td>Research &amp; Development</td>\n",
       "      <td>Below College</td>\n",
       "    </tr>\n",
       "    <tr>\n",
       "      <th>1468</th>\n",
       "      <td>49</td>\n",
       "      <td>Travel_Frequently</td>\n",
       "      <td>Sales</td>\n",
       "      <td>Bachelor</td>\n",
       "    </tr>\n",
       "  </tbody>\n",
       "</table>\n",
       "<p>819 rows × 4 columns</p>\n",
       "</div>"
      ],
      "text/plain": [
       "      Age     BusinessTravel              Department      Education\n",
       "0      41      Travel_Rarely                   Sales        College\n",
       "1      49  Travel_Frequently  Research & Development  Below College\n",
       "2      37      Travel_Rarely  Research & Development        College\n",
       "6      59      Travel_Rarely  Research & Development       Bachelor\n",
       "8      38  Travel_Frequently  Research & Development       Bachelor\n",
       "...   ...                ...                     ...            ...\n",
       "1461   50      Travel_Rarely                   Sales       Bachelor\n",
       "1462   39      Travel_Rarely                   Sales  Below College\n",
       "1465   36  Travel_Frequently  Research & Development        College\n",
       "1466   39      Travel_Rarely  Research & Development  Below College\n",
       "1468   49  Travel_Frequently                   Sales       Bachelor\n",
       "\n",
       "[819 rows x 4 columns]"
      ]
     },
     "execution_count": 35,
     "metadata": {},
     "output_type": "execute_result"
    }
   ],
   "source": [
    "hr_data.loc[\n",
    "    hr_data.Age >= 35,\n",
    "    ['Age','BusinessTravel','Department','Education']]"
   ]
  },
  {
   "cell_type": "markdown",
   "id": "e6f78995-ed22-46df-8373-9252b8d64702",
   "metadata": {},
   "source": [
    "Masks can be created using multiple criteria when combined with bitwise operators & for AND and | for OR. We must also surround each criterion with parentheses. We can't use and/or here because we need to evaluate row by row:"
   ]
  },
  {
   "cell_type": "code",
   "execution_count": 41,
   "id": "bf31154a-3614-4765-be2c-be702e34c017",
   "metadata": {
    "tags": []
   },
   "outputs": [
    {
     "data": {
      "text/html": [
       "<div>\n",
       "<style scoped>\n",
       "    .dataframe tbody tr th:only-of-type {\n",
       "        vertical-align: middle;\n",
       "    }\n",
       "\n",
       "    .dataframe tbody tr th {\n",
       "        vertical-align: top;\n",
       "    }\n",
       "\n",
       "    .dataframe thead th {\n",
       "        text-align: right;\n",
       "    }\n",
       "</style>\n",
       "<table border=\"1\" class=\"dataframe\">\n",
       "  <thead>\n",
       "    <tr style=\"text-align: right;\">\n",
       "      <th></th>\n",
       "      <th>Age</th>\n",
       "      <th>BusinessTravel</th>\n",
       "      <th>Department</th>\n",
       "      <th>Education</th>\n",
       "    </tr>\n",
       "  </thead>\n",
       "  <tbody>\n",
       "    <tr>\n",
       "      <th>536</th>\n",
       "      <td>60</td>\n",
       "      <td>Travel_Rarely</td>\n",
       "      <td>Sales</td>\n",
       "      <td>Master</td>\n",
       "    </tr>\n",
       "    <tr>\n",
       "      <th>879</th>\n",
       "      <td>60</td>\n",
       "      <td>Travel_Rarely</td>\n",
       "      <td>Sales</td>\n",
       "      <td>Master</td>\n",
       "    </tr>\n",
       "    <tr>\n",
       "      <th>1209</th>\n",
       "      <td>60</td>\n",
       "      <td>Travel_Rarely</td>\n",
       "      <td>Research &amp; Development</td>\n",
       "      <td>Master</td>\n",
       "    </tr>\n",
       "  </tbody>\n",
       "</table>\n",
       "</div>"
      ],
      "text/plain": [
       "      Age BusinessTravel              Department Education\n",
       "536    60  Travel_Rarely                   Sales    Master\n",
       "879    60  Travel_Rarely                   Sales    Master\n",
       "1209   60  Travel_Rarely  Research & Development    Master"
      ]
     },
     "execution_count": 41,
     "metadata": {},
     "output_type": "execute_result"
    }
   ],
   "source": [
    "hr_data.loc[\n",
    "    (hr_data.Age >= 60) & (hr_data.Gender == 'Male'),\n",
    "    ['Age','BusinessTravel','Department','Education']]"
   ]
  },
  {
   "cell_type": "markdown",
   "id": "387ee1c2-42dc-41ca-99ae-c1cffd876196",
   "metadata": {},
   "source": [
    "An example with an OR condition, which is less restrictive:"
   ]
  },
  {
   "cell_type": "code",
   "execution_count": 42,
   "id": "ee0f7679-a17f-4900-96b7-f49d621a4b99",
   "metadata": {
    "tags": []
   },
   "outputs": [
    {
     "data": {
      "text/html": [
       "<div>\n",
       "<style scoped>\n",
       "    .dataframe tbody tr th:only-of-type {\n",
       "        vertical-align: middle;\n",
       "    }\n",
       "\n",
       "    .dataframe tbody tr th {\n",
       "        vertical-align: top;\n",
       "    }\n",
       "\n",
       "    .dataframe thead th {\n",
       "        text-align: right;\n",
       "    }\n",
       "</style>\n",
       "<table border=\"1\" class=\"dataframe\">\n",
       "  <thead>\n",
       "    <tr style=\"text-align: right;\">\n",
       "      <th></th>\n",
       "      <th>Age</th>\n",
       "      <th>BusinessTravel</th>\n",
       "      <th>Department</th>\n",
       "      <th>Education</th>\n",
       "    </tr>\n",
       "  </thead>\n",
       "  <tbody>\n",
       "    <tr>\n",
       "      <th>1</th>\n",
       "      <td>49</td>\n",
       "      <td>Travel_Frequently</td>\n",
       "      <td>Research &amp; Development</td>\n",
       "      <td>Below College</td>\n",
       "    </tr>\n",
       "    <tr>\n",
       "      <th>2</th>\n",
       "      <td>37</td>\n",
       "      <td>Travel_Rarely</td>\n",
       "      <td>Research &amp; Development</td>\n",
       "      <td>College</td>\n",
       "    </tr>\n",
       "    <tr>\n",
       "      <th>4</th>\n",
       "      <td>27</td>\n",
       "      <td>Travel_Rarely</td>\n",
       "      <td>Research &amp; Development</td>\n",
       "      <td>Below College</td>\n",
       "    </tr>\n",
       "    <tr>\n",
       "      <th>5</th>\n",
       "      <td>32</td>\n",
       "      <td>Travel_Frequently</td>\n",
       "      <td>Research &amp; Development</td>\n",
       "      <td>College</td>\n",
       "    </tr>\n",
       "    <tr>\n",
       "      <th>7</th>\n",
       "      <td>30</td>\n",
       "      <td>Travel_Rarely</td>\n",
       "      <td>Research &amp; Development</td>\n",
       "      <td>Below College</td>\n",
       "    </tr>\n",
       "    <tr>\n",
       "      <th>...</th>\n",
       "      <td>...</td>\n",
       "      <td>...</td>\n",
       "      <td>...</td>\n",
       "      <td>...</td>\n",
       "    </tr>\n",
       "    <tr>\n",
       "      <th>1465</th>\n",
       "      <td>36</td>\n",
       "      <td>Travel_Frequently</td>\n",
       "      <td>Research &amp; Development</td>\n",
       "      <td>College</td>\n",
       "    </tr>\n",
       "    <tr>\n",
       "      <th>1466</th>\n",
       "      <td>39</td>\n",
       "      <td>Travel_Rarely</td>\n",
       "      <td>Research &amp; Development</td>\n",
       "      <td>Below College</td>\n",
       "    </tr>\n",
       "    <tr>\n",
       "      <th>1467</th>\n",
       "      <td>27</td>\n",
       "      <td>Travel_Rarely</td>\n",
       "      <td>Research &amp; Development</td>\n",
       "      <td>Bachelor</td>\n",
       "    </tr>\n",
       "    <tr>\n",
       "      <th>1468</th>\n",
       "      <td>49</td>\n",
       "      <td>Travel_Frequently</td>\n",
       "      <td>Sales</td>\n",
       "      <td>Bachelor</td>\n",
       "    </tr>\n",
       "    <tr>\n",
       "      <th>1469</th>\n",
       "      <td>34</td>\n",
       "      <td>Travel_Rarely</td>\n",
       "      <td>Research &amp; Development</td>\n",
       "      <td>Bachelor</td>\n",
       "    </tr>\n",
       "  </tbody>\n",
       "</table>\n",
       "<p>882 rows × 4 columns</p>\n",
       "</div>"
      ],
      "text/plain": [
       "      Age     BusinessTravel              Department      Education\n",
       "1      49  Travel_Frequently  Research & Development  Below College\n",
       "2      37      Travel_Rarely  Research & Development        College\n",
       "4      27      Travel_Rarely  Research & Development  Below College\n",
       "5      32  Travel_Frequently  Research & Development        College\n",
       "7      30      Travel_Rarely  Research & Development  Below College\n",
       "...   ...                ...                     ...            ...\n",
       "1465   36  Travel_Frequently  Research & Development        College\n",
       "1466   39      Travel_Rarely  Research & Development  Below College\n",
       "1467   27      Travel_Rarely  Research & Development       Bachelor\n",
       "1468   49  Travel_Frequently                   Sales       Bachelor\n",
       "1469   34      Travel_Rarely  Research & Development       Bachelor\n",
       "\n",
       "[882 rows x 4 columns]"
      ]
     },
     "execution_count": 42,
     "metadata": {},
     "output_type": "execute_result"
    }
   ],
   "source": [
    "hr_data.loc[\n",
    "    (hr_data.Age >= 60) | (hr_data.Gender == 'Male'),\n",
    "    ['Age','BusinessTravel','Department','Education']]"
   ]
  },
  {
   "cell_type": "markdown",
   "id": "5b39e699-8b75-4217-8b1f-f84c3c043f45",
   "metadata": {},
   "source": [
    "Masks can be created from any criteria that results in a Boolean. For example, we can select all Department with the string Sales in the place column with a non-null value for the Age column. To get non-nulls, we can use the isnull() method with the bitwise negation operator (~) or the notnull() method:"
   ]
  },
  {
   "cell_type": "code",
   "execution_count": 44,
   "id": "f58c0eb4-135f-4f8e-aa78-e44726e7d659",
   "metadata": {
    "tags": []
   },
   "outputs": [
    {
     "data": {
      "text/html": [
       "<div>\n",
       "<style scoped>\n",
       "    .dataframe tbody tr th:only-of-type {\n",
       "        vertical-align: middle;\n",
       "    }\n",
       "\n",
       "    .dataframe tbody tr th {\n",
       "        vertical-align: top;\n",
       "    }\n",
       "\n",
       "    .dataframe thead th {\n",
       "        text-align: right;\n",
       "    }\n",
       "</style>\n",
       "<table border=\"1\" class=\"dataframe\">\n",
       "  <thead>\n",
       "    <tr style=\"text-align: right;\">\n",
       "      <th></th>\n",
       "      <th>Age</th>\n",
       "      <th>BusinessTravel</th>\n",
       "      <th>Department</th>\n",
       "      <th>Education</th>\n",
       "    </tr>\n",
       "  </thead>\n",
       "  <tbody>\n",
       "    <tr>\n",
       "      <th>0</th>\n",
       "      <td>41</td>\n",
       "      <td>Travel_Rarely</td>\n",
       "      <td>Sales</td>\n",
       "      <td>College</td>\n",
       "    </tr>\n",
       "    <tr>\n",
       "      <th>18</th>\n",
       "      <td>53</td>\n",
       "      <td>Travel_Rarely</td>\n",
       "      <td>Sales</td>\n",
       "      <td>Master</td>\n",
       "    </tr>\n",
       "    <tr>\n",
       "      <th>21</th>\n",
       "      <td>36</td>\n",
       "      <td>Travel_Rarely</td>\n",
       "      <td>Sales</td>\n",
       "      <td>Master</td>\n",
       "    </tr>\n",
       "    <tr>\n",
       "      <th>27</th>\n",
       "      <td>42</td>\n",
       "      <td>Travel_Rarely</td>\n",
       "      <td>Sales</td>\n",
       "      <td>Master</td>\n",
       "    </tr>\n",
       "    <tr>\n",
       "      <th>29</th>\n",
       "      <td>46</td>\n",
       "      <td>Travel_Rarely</td>\n",
       "      <td>Sales</td>\n",
       "      <td>Master</td>\n",
       "    </tr>\n",
       "    <tr>\n",
       "      <th>...</th>\n",
       "      <td>...</td>\n",
       "      <td>...</td>\n",
       "      <td>...</td>\n",
       "      <td>...</td>\n",
       "    </tr>\n",
       "    <tr>\n",
       "      <th>1454</th>\n",
       "      <td>45</td>\n",
       "      <td>Travel_Rarely</td>\n",
       "      <td>Sales</td>\n",
       "      <td>Bachelor</td>\n",
       "    </tr>\n",
       "    <tr>\n",
       "      <th>1461</th>\n",
       "      <td>50</td>\n",
       "      <td>Travel_Rarely</td>\n",
       "      <td>Sales</td>\n",
       "      <td>Bachelor</td>\n",
       "    </tr>\n",
       "    <tr>\n",
       "      <th>1462</th>\n",
       "      <td>39</td>\n",
       "      <td>Travel_Rarely</td>\n",
       "      <td>Sales</td>\n",
       "      <td>Below College</td>\n",
       "    </tr>\n",
       "    <tr>\n",
       "      <th>1464</th>\n",
       "      <td>26</td>\n",
       "      <td>Travel_Rarely</td>\n",
       "      <td>Sales</td>\n",
       "      <td>Bachelor</td>\n",
       "    </tr>\n",
       "    <tr>\n",
       "      <th>1468</th>\n",
       "      <td>49</td>\n",
       "      <td>Travel_Frequently</td>\n",
       "      <td>Sales</td>\n",
       "      <td>Bachelor</td>\n",
       "    </tr>\n",
       "  </tbody>\n",
       "</table>\n",
       "<p>446 rows × 4 columns</p>\n",
       "</div>"
      ],
      "text/plain": [
       "      Age     BusinessTravel Department      Education\n",
       "0      41      Travel_Rarely      Sales        College\n",
       "18     53      Travel_Rarely      Sales         Master\n",
       "21     36      Travel_Rarely      Sales         Master\n",
       "27     42      Travel_Rarely      Sales         Master\n",
       "29     46      Travel_Rarely      Sales         Master\n",
       "...   ...                ...        ...            ...\n",
       "1454   45      Travel_Rarely      Sales       Bachelor\n",
       "1461   50      Travel_Rarely      Sales       Bachelor\n",
       "1462   39      Travel_Rarely      Sales  Below College\n",
       "1464   26      Travel_Rarely      Sales       Bachelor\n",
       "1468   49  Travel_Frequently      Sales       Bachelor\n",
       "\n",
       "[446 rows x 4 columns]"
      ]
     },
     "execution_count": 44,
     "metadata": {},
     "output_type": "execute_result"
    }
   ],
   "source": [
    "hr_data.loc[\n",
    "    (hr_data.Age.notnull()) & (hr_data.Department.str.contains('Sales')),\n",
    "    ['Age','BusinessTravel','Department','Education']]"
   ]
  },
  {
   "cell_type": "markdown",
   "id": "82e7ec55-3f08-4420-b5f7-becdbc9c4296",
   "metadata": {},
   "source": [
    "We can use the between() method to turn 2 individual checks (is less than or equal to some maximum value and is greater than or equal to some minimum value) into a single one. Note this is inclusive of the endpoint by default:"
   ]
  },
  {
   "cell_type": "code",
   "execution_count": 47,
   "id": "40f27bc2-23d1-4ed5-9634-e67920d37a2e",
   "metadata": {
    "tags": []
   },
   "outputs": [
    {
     "data": {
      "text/html": [
       "<div>\n",
       "<style scoped>\n",
       "    .dataframe tbody tr th:only-of-type {\n",
       "        vertical-align: middle;\n",
       "    }\n",
       "\n",
       "    .dataframe tbody tr th {\n",
       "        vertical-align: top;\n",
       "    }\n",
       "\n",
       "    .dataframe thead th {\n",
       "        text-align: right;\n",
       "    }\n",
       "</style>\n",
       "<table border=\"1\" class=\"dataframe\">\n",
       "  <thead>\n",
       "    <tr style=\"text-align: right;\">\n",
       "      <th></th>\n",
       "      <th>Age</th>\n",
       "      <th>BusinessTravel</th>\n",
       "      <th>Department</th>\n",
       "      <th>Education</th>\n",
       "    </tr>\n",
       "  </thead>\n",
       "  <tbody>\n",
       "    <tr>\n",
       "      <th>6</th>\n",
       "      <td>59</td>\n",
       "      <td>Travel_Rarely</td>\n",
       "      <td>Research &amp; Development</td>\n",
       "      <td>Bachelor</td>\n",
       "    </tr>\n",
       "    <tr>\n",
       "      <th>63</th>\n",
       "      <td>59</td>\n",
       "      <td>Travel_Rarely</td>\n",
       "      <td>Sales</td>\n",
       "      <td>Bachelor</td>\n",
       "    </tr>\n",
       "    <tr>\n",
       "      <th>70</th>\n",
       "      <td>59</td>\n",
       "      <td>Travel_Frequently</td>\n",
       "      <td>Sales</td>\n",
       "      <td>Below College</td>\n",
       "    </tr>\n",
       "    <tr>\n",
       "      <th>105</th>\n",
       "      <td>59</td>\n",
       "      <td>Non-Travel</td>\n",
       "      <td>Human Resources</td>\n",
       "      <td>Master</td>\n",
       "    </tr>\n",
       "    <tr>\n",
       "      <th>225</th>\n",
       "      <td>59</td>\n",
       "      <td>Travel_Rarely</td>\n",
       "      <td>Research &amp; Development</td>\n",
       "      <td>Bachelor</td>\n",
       "    </tr>\n",
       "    <tr>\n",
       "      <th>232</th>\n",
       "      <td>59</td>\n",
       "      <td>Travel_Rarely</td>\n",
       "      <td>Human Resources</td>\n",
       "      <td>College</td>\n",
       "    </tr>\n",
       "    <tr>\n",
       "      <th>411</th>\n",
       "      <td>60</td>\n",
       "      <td>Travel_Rarely</td>\n",
       "      <td>Research &amp; Development</td>\n",
       "      <td>Bachelor</td>\n",
       "    </tr>\n",
       "    <tr>\n",
       "      <th>427</th>\n",
       "      <td>60</td>\n",
       "      <td>Travel_Frequently</td>\n",
       "      <td>Sales</td>\n",
       "      <td>Bachelor</td>\n",
       "    </tr>\n",
       "    <tr>\n",
       "      <th>536</th>\n",
       "      <td>60</td>\n",
       "      <td>Travel_Rarely</td>\n",
       "      <td>Sales</td>\n",
       "      <td>Master</td>\n",
       "    </tr>\n",
       "    <tr>\n",
       "      <th>743</th>\n",
       "      <td>59</td>\n",
       "      <td>Travel_Rarely</td>\n",
       "      <td>Research &amp; Development</td>\n",
       "      <td>Bachelor</td>\n",
       "    </tr>\n",
       "    <tr>\n",
       "      <th>758</th>\n",
       "      <td>59</td>\n",
       "      <td>Travel_Rarely</td>\n",
       "      <td>Sales</td>\n",
       "      <td>College</td>\n",
       "    </tr>\n",
       "    <tr>\n",
       "      <th>879</th>\n",
       "      <td>60</td>\n",
       "      <td>Travel_Rarely</td>\n",
       "      <td>Sales</td>\n",
       "      <td>Master</td>\n",
       "    </tr>\n",
       "    <tr>\n",
       "      <th>897</th>\n",
       "      <td>59</td>\n",
       "      <td>Travel_Rarely</td>\n",
       "      <td>Sales</td>\n",
       "      <td>Bachelor</td>\n",
       "    </tr>\n",
       "    <tr>\n",
       "      <th>919</th>\n",
       "      <td>59</td>\n",
       "      <td>Travel_Rarely</td>\n",
       "      <td>Research &amp; Development</td>\n",
       "      <td>Master</td>\n",
       "    </tr>\n",
       "    <tr>\n",
       "      <th>1209</th>\n",
       "      <td>60</td>\n",
       "      <td>Travel_Rarely</td>\n",
       "      <td>Research &amp; Development</td>\n",
       "      <td>Master</td>\n",
       "    </tr>\n",
       "  </tbody>\n",
       "</table>\n",
       "</div>"
      ],
      "text/plain": [
       "      Age     BusinessTravel              Department      Education\n",
       "6      59      Travel_Rarely  Research & Development       Bachelor\n",
       "63     59      Travel_Rarely                   Sales       Bachelor\n",
       "70     59  Travel_Frequently                   Sales  Below College\n",
       "105    59         Non-Travel         Human Resources         Master\n",
       "225    59      Travel_Rarely  Research & Development       Bachelor\n",
       "232    59      Travel_Rarely         Human Resources        College\n",
       "411    60      Travel_Rarely  Research & Development       Bachelor\n",
       "427    60  Travel_Frequently                   Sales       Bachelor\n",
       "536    60      Travel_Rarely                   Sales         Master\n",
       "743    59      Travel_Rarely  Research & Development       Bachelor\n",
       "758    59      Travel_Rarely                   Sales        College\n",
       "879    60      Travel_Rarely                   Sales         Master\n",
       "897    59      Travel_Rarely                   Sales       Bachelor\n",
       "919    59      Travel_Rarely  Research & Development         Master\n",
       "1209   60      Travel_Rarely  Research & Development         Master"
      ]
     },
     "execution_count": 47,
     "metadata": {},
     "output_type": "execute_result"
    }
   ],
   "source": [
    "hr_data.loc[\n",
    "    hr_data.Age.between(59,60),\n",
    "    ['Age','BusinessTravel','Department','Education']]"
   ]
  },
  {
   "cell_type": "markdown",
   "id": "0f063e2f-6159-43e7-92bd-a727e7b121d7",
   "metadata": {},
   "source": [
    "We can use the isin() method to check for membership in a list of values:"
   ]
  },
  {
   "cell_type": "code",
   "execution_count": 48,
   "id": "4681a0ff-9b4d-4a3a-8d5d-545f2a463e99",
   "metadata": {
    "tags": []
   },
   "outputs": [
    {
     "data": {
      "text/html": [
       "<div>\n",
       "<style scoped>\n",
       "    .dataframe tbody tr th:only-of-type {\n",
       "        vertical-align: middle;\n",
       "    }\n",
       "\n",
       "    .dataframe tbody tr th {\n",
       "        vertical-align: top;\n",
       "    }\n",
       "\n",
       "    .dataframe thead th {\n",
       "        text-align: right;\n",
       "    }\n",
       "</style>\n",
       "<table border=\"1\" class=\"dataframe\">\n",
       "  <thead>\n",
       "    <tr style=\"text-align: right;\">\n",
       "      <th></th>\n",
       "      <th>Age</th>\n",
       "      <th>BusinessTravel</th>\n",
       "      <th>Department</th>\n",
       "      <th>Education</th>\n",
       "    </tr>\n",
       "  </thead>\n",
       "  <tbody>\n",
       "    <tr>\n",
       "      <th>3</th>\n",
       "      <td>33</td>\n",
       "      <td>Travel_Frequently</td>\n",
       "      <td>Research &amp; Development</td>\n",
       "      <td>Master</td>\n",
       "    </tr>\n",
       "    <tr>\n",
       "      <th>6</th>\n",
       "      <td>59</td>\n",
       "      <td>Travel_Rarely</td>\n",
       "      <td>Research &amp; Development</td>\n",
       "      <td>Bachelor</td>\n",
       "    </tr>\n",
       "    <tr>\n",
       "      <th>8</th>\n",
       "      <td>38</td>\n",
       "      <td>Travel_Frequently</td>\n",
       "      <td>Research &amp; Development</td>\n",
       "      <td>Bachelor</td>\n",
       "    </tr>\n",
       "    <tr>\n",
       "      <th>9</th>\n",
       "      <td>36</td>\n",
       "      <td>Travel_Rarely</td>\n",
       "      <td>Research &amp; Development</td>\n",
       "      <td>Bachelor</td>\n",
       "    </tr>\n",
       "    <tr>\n",
       "      <th>10</th>\n",
       "      <td>35</td>\n",
       "      <td>Travel_Rarely</td>\n",
       "      <td>Research &amp; Development</td>\n",
       "      <td>Bachelor</td>\n",
       "    </tr>\n",
       "    <tr>\n",
       "      <th>...</th>\n",
       "      <td>...</td>\n",
       "      <td>...</td>\n",
       "      <td>...</td>\n",
       "      <td>...</td>\n",
       "    </tr>\n",
       "    <tr>\n",
       "      <th>1463</th>\n",
       "      <td>31</td>\n",
       "      <td>Non-Travel</td>\n",
       "      <td>Research &amp; Development</td>\n",
       "      <td>Bachelor</td>\n",
       "    </tr>\n",
       "    <tr>\n",
       "      <th>1464</th>\n",
       "      <td>26</td>\n",
       "      <td>Travel_Rarely</td>\n",
       "      <td>Sales</td>\n",
       "      <td>Bachelor</td>\n",
       "    </tr>\n",
       "    <tr>\n",
       "      <th>1467</th>\n",
       "      <td>27</td>\n",
       "      <td>Travel_Rarely</td>\n",
       "      <td>Research &amp; Development</td>\n",
       "      <td>Bachelor</td>\n",
       "    </tr>\n",
       "    <tr>\n",
       "      <th>1468</th>\n",
       "      <td>49</td>\n",
       "      <td>Travel_Frequently</td>\n",
       "      <td>Sales</td>\n",
       "      <td>Bachelor</td>\n",
       "    </tr>\n",
       "    <tr>\n",
       "      <th>1469</th>\n",
       "      <td>34</td>\n",
       "      <td>Travel_Rarely</td>\n",
       "      <td>Research &amp; Development</td>\n",
       "      <td>Bachelor</td>\n",
       "    </tr>\n",
       "  </tbody>\n",
       "</table>\n",
       "<p>970 rows × 4 columns</p>\n",
       "</div>"
      ],
      "text/plain": [
       "      Age     BusinessTravel              Department Education\n",
       "3      33  Travel_Frequently  Research & Development    Master\n",
       "6      59      Travel_Rarely  Research & Development  Bachelor\n",
       "8      38  Travel_Frequently  Research & Development  Bachelor\n",
       "9      36      Travel_Rarely  Research & Development  Bachelor\n",
       "10     35      Travel_Rarely  Research & Development  Bachelor\n",
       "...   ...                ...                     ...       ...\n",
       "1463   31         Non-Travel  Research & Development  Bachelor\n",
       "1464   26      Travel_Rarely                   Sales  Bachelor\n",
       "1467   27      Travel_Rarely  Research & Development  Bachelor\n",
       "1468   49  Travel_Frequently                   Sales  Bachelor\n",
       "1469   34      Travel_Rarely  Research & Development  Bachelor\n",
       "\n",
       "[970 rows x 4 columns]"
      ]
     },
     "execution_count": 48,
     "metadata": {},
     "output_type": "execute_result"
    }
   ],
   "source": [
    "hr_data.loc[\n",
    "    hr_data.Education.isin(['Master','Bachelor']),\n",
    "    ['Age','BusinessTravel','Department','Education']]"
   ]
  },
  {
   "cell_type": "markdown",
   "id": "de247675-1bab-4d19-b1b7-a41d02a54f86",
   "metadata": {},
   "source": [
    "We can grab the index of the minimum and maximum values of a given column and use those to select the entire row where they occur:"
   ]
  },
  {
   "cell_type": "code",
   "execution_count": 49,
   "id": "9e7c2d04-5281-4ffd-ada3-8dbac34e6a69",
   "metadata": {
    "tags": []
   },
   "outputs": [
    {
     "data": {
      "text/plain": [
       "[296, 411]"
      ]
     },
     "execution_count": 49,
     "metadata": {},
     "output_type": "execute_result"
    }
   ],
   "source": [
    "[hr_data.Age.idxmin(), hr_data.Age.idxmax()]"
   ]
  },
  {
   "cell_type": "code",
   "execution_count": 50,
   "id": "7fcd258c-0c43-40f1-bec4-ff59c84d2cf0",
   "metadata": {
    "tags": []
   },
   "outputs": [
    {
     "data": {
      "text/html": [
       "<div>\n",
       "<style scoped>\n",
       "    .dataframe tbody tr th:only-of-type {\n",
       "        vertical-align: middle;\n",
       "    }\n",
       "\n",
       "    .dataframe tbody tr th {\n",
       "        vertical-align: top;\n",
       "    }\n",
       "\n",
       "    .dataframe thead th {\n",
       "        text-align: right;\n",
       "    }\n",
       "</style>\n",
       "<table border=\"1\" class=\"dataframe\">\n",
       "  <thead>\n",
       "    <tr style=\"text-align: right;\">\n",
       "      <th></th>\n",
       "      <th>Age</th>\n",
       "      <th>BusinessTravel</th>\n",
       "      <th>Department</th>\n",
       "      <th>Education</th>\n",
       "    </tr>\n",
       "  </thead>\n",
       "  <tbody>\n",
       "    <tr>\n",
       "      <th>296</th>\n",
       "      <td>18</td>\n",
       "      <td>Travel_Rarely</td>\n",
       "      <td>Research &amp; Development</td>\n",
       "      <td>Bachelor</td>\n",
       "    </tr>\n",
       "    <tr>\n",
       "      <th>411</th>\n",
       "      <td>60</td>\n",
       "      <td>Travel_Rarely</td>\n",
       "      <td>Research &amp; Development</td>\n",
       "      <td>Bachelor</td>\n",
       "    </tr>\n",
       "  </tbody>\n",
       "</table>\n",
       "</div>"
      ],
      "text/plain": [
       "     Age BusinessTravel              Department Education\n",
       "296   18  Travel_Rarely  Research & Development  Bachelor\n",
       "411   60  Travel_Rarely  Research & Development  Bachelor"
      ]
     },
     "execution_count": 50,
     "metadata": {},
     "output_type": "execute_result"
    }
   ],
   "source": [
    "hr_data.loc[\n",
    "    [hr_data.Age.idxmin(), hr_data.Age.idxmax()],\n",
    "    ['Age','BusinessTravel','Department','Education']]"
   ]
  },
  {
   "cell_type": "markdown",
   "id": "072a6adc-3100-4421-992d-1f3c3bffb623",
   "metadata": {},
   "source": [
    "Note that there is a filter() method, but it doesn't filter the data in the same sense as we discussed in this section. Here are a few things you can do with this method.\n",
    "\n",
    "   grab columns of a dataframe by passing a list to items:"
   ]
  },
  {
   "cell_type": "code",
   "execution_count": 51,
   "id": "ba8a6fde-5490-4c19-9262-e850e7d63f25",
   "metadata": {
    "tags": []
   },
   "outputs": [
    {
     "data": {
      "text/html": [
       "<div>\n",
       "<style scoped>\n",
       "    .dataframe tbody tr th:only-of-type {\n",
       "        vertical-align: middle;\n",
       "    }\n",
       "\n",
       "    .dataframe tbody tr th {\n",
       "        vertical-align: top;\n",
       "    }\n",
       "\n",
       "    .dataframe thead th {\n",
       "        text-align: right;\n",
       "    }\n",
       "</style>\n",
       "<table border=\"1\" class=\"dataframe\">\n",
       "  <thead>\n",
       "    <tr style=\"text-align: right;\">\n",
       "      <th></th>\n",
       "      <th>Age</th>\n",
       "      <th>Department</th>\n",
       "    </tr>\n",
       "  </thead>\n",
       "  <tbody>\n",
       "    <tr>\n",
       "      <th>0</th>\n",
       "      <td>41</td>\n",
       "      <td>Sales</td>\n",
       "    </tr>\n",
       "    <tr>\n",
       "      <th>1</th>\n",
       "      <td>49</td>\n",
       "      <td>Research &amp; Development</td>\n",
       "    </tr>\n",
       "    <tr>\n",
       "      <th>2</th>\n",
       "      <td>37</td>\n",
       "      <td>Research &amp; Development</td>\n",
       "    </tr>\n",
       "    <tr>\n",
       "      <th>3</th>\n",
       "      <td>33</td>\n",
       "      <td>Research &amp; Development</td>\n",
       "    </tr>\n",
       "    <tr>\n",
       "      <th>4</th>\n",
       "      <td>27</td>\n",
       "      <td>Research &amp; Development</td>\n",
       "    </tr>\n",
       "  </tbody>\n",
       "</table>\n",
       "</div>"
      ],
      "text/plain": [
       "   Age              Department\n",
       "0   41                   Sales\n",
       "1   49  Research & Development\n",
       "2   37  Research & Development\n",
       "3   33  Research & Development\n",
       "4   27  Research & Development"
      ]
     },
     "execution_count": 51,
     "metadata": {},
     "output_type": "execute_result"
    }
   ],
   "source": [
    "hr_data.filter(items=['Age', 'Department']).head()"
   ]
  },
  {
   "cell_type": "markdown",
   "id": "85511730-4e86-4527-8c5d-213f759b89cf",
   "metadata": {},
   "source": [
    "grab all the columns that contain a string with the like parameter:"
   ]
  },
  {
   "cell_type": "code",
   "execution_count": 52,
   "id": "23d9cfd2-102b-43f4-aa19-a5f2dba3a7d5",
   "metadata": {
    "tags": []
   },
   "outputs": [
    {
     "data": {
      "text/html": [
       "<div>\n",
       "<style scoped>\n",
       "    .dataframe tbody tr th:only-of-type {\n",
       "        vertical-align: middle;\n",
       "    }\n",
       "\n",
       "    .dataframe tbody tr th {\n",
       "        vertical-align: top;\n",
       "    }\n",
       "\n",
       "    .dataframe thead th {\n",
       "        text-align: right;\n",
       "    }\n",
       "</style>\n",
       "<table border=\"1\" class=\"dataframe\">\n",
       "  <thead>\n",
       "    <tr style=\"text-align: right;\">\n",
       "      <th></th>\n",
       "      <th>Education</th>\n",
       "      <th>EducationField</th>\n",
       "    </tr>\n",
       "  </thead>\n",
       "  <tbody>\n",
       "    <tr>\n",
       "      <th>0</th>\n",
       "      <td>College</td>\n",
       "      <td>Life Sciences</td>\n",
       "    </tr>\n",
       "    <tr>\n",
       "      <th>1</th>\n",
       "      <td>Below College</td>\n",
       "      <td>Life Sciences</td>\n",
       "    </tr>\n",
       "    <tr>\n",
       "      <th>2</th>\n",
       "      <td>College</td>\n",
       "      <td>Other</td>\n",
       "    </tr>\n",
       "    <tr>\n",
       "      <th>3</th>\n",
       "      <td>Master</td>\n",
       "      <td>Life Sciences</td>\n",
       "    </tr>\n",
       "    <tr>\n",
       "      <th>4</th>\n",
       "      <td>Below College</td>\n",
       "      <td>Medical</td>\n",
       "    </tr>\n",
       "  </tbody>\n",
       "</table>\n",
       "</div>"
      ],
      "text/plain": [
       "       Education EducationField\n",
       "0        College  Life Sciences\n",
       "1  Below College  Life Sciences\n",
       "2        College          Other\n",
       "3         Master  Life Sciences\n",
       "4  Below College        Medical"
      ]
     },
     "execution_count": 52,
     "metadata": {},
     "output_type": "execute_result"
    }
   ],
   "source": [
    "hr_data.filter(like='Education').head()"
   ]
  },
  {
   "cell_type": "markdown",
   "id": "a1c5bc80-f7d8-4819-9d5c-70602b359a5e",
   "metadata": {},
   "source": []
  },
  {
   "cell_type": "markdown",
   "id": "86095ef9-da1a-434e-9f67-899753629f30",
   "metadata": {},
   "source": [
    "# Creating New Data"
   ]
  },
  {
   "cell_type": "markdown",
   "id": "9bd7fc62-6cdf-4f9d-92f6-1657152d0392",
   "metadata": {},
   "source": [
    "## Creating New Column"
   ]
  },
  {
   "cell_type": "code",
   "execution_count": 53,
   "id": "333cf9fd-0b5f-4e09-9c75-2ae5f115dd04",
   "metadata": {
    "tags": []
   },
   "outputs": [],
   "source": [
    "hr_data['YearlyCostOfHiring'] = hr_data['CostOfHiring']*12"
   ]
  },
  {
   "cell_type": "code",
   "execution_count": 54,
   "id": "c764a12d-ff47-4c54-87f6-b21afcc1bbef",
   "metadata": {
    "tags": []
   },
   "outputs": [
    {
     "data": {
      "text/html": [
       "<div>\n",
       "<style scoped>\n",
       "    .dataframe tbody tr th:only-of-type {\n",
       "        vertical-align: middle;\n",
       "    }\n",
       "\n",
       "    .dataframe tbody tr th {\n",
       "        vertical-align: top;\n",
       "    }\n",
       "\n",
       "    .dataframe thead th {\n",
       "        text-align: right;\n",
       "    }\n",
       "</style>\n",
       "<table border=\"1\" class=\"dataframe\">\n",
       "  <thead>\n",
       "    <tr style=\"text-align: right;\">\n",
       "      <th></th>\n",
       "      <th>Age</th>\n",
       "      <th>BusinessTravel</th>\n",
       "      <th>DailyRate</th>\n",
       "      <th>CostOfHiring</th>\n",
       "      <th>Department</th>\n",
       "      <th>Education</th>\n",
       "      <th>EducationField</th>\n",
       "      <th>EnvironmentSatisfaction</th>\n",
       "      <th>Gender</th>\n",
       "      <th>JobRole</th>\n",
       "      <th>...</th>\n",
       "      <th>NumCompaniesWorked</th>\n",
       "      <th>OverTime</th>\n",
       "      <th>PerformanceRating</th>\n",
       "      <th>TotalWorkingYears</th>\n",
       "      <th>TrainingTimesLastYear</th>\n",
       "      <th>YearsAtCompany</th>\n",
       "      <th>YearsSinceLastPromotion</th>\n",
       "      <th>YearsWithCurrManager</th>\n",
       "      <th>Attrition</th>\n",
       "      <th>YearlyCostOfHiring</th>\n",
       "    </tr>\n",
       "  </thead>\n",
       "  <tbody>\n",
       "    <tr>\n",
       "      <th>0</th>\n",
       "      <td>41</td>\n",
       "      <td>Travel_Rarely</td>\n",
       "      <td>1102</td>\n",
       "      <td>7192</td>\n",
       "      <td>Sales</td>\n",
       "      <td>College</td>\n",
       "      <td>Life Sciences</td>\n",
       "      <td>Medium</td>\n",
       "      <td>Female</td>\n",
       "      <td>Sales Executive</td>\n",
       "      <td>...</td>\n",
       "      <td>8</td>\n",
       "      <td>Yes</td>\n",
       "      <td>Excellent</td>\n",
       "      <td>8</td>\n",
       "      <td>0</td>\n",
       "      <td>6</td>\n",
       "      <td>0</td>\n",
       "      <td>5</td>\n",
       "      <td>Yes</td>\n",
       "      <td>86304</td>\n",
       "    </tr>\n",
       "    <tr>\n",
       "      <th>1</th>\n",
       "      <td>49</td>\n",
       "      <td>Travel_Frequently</td>\n",
       "      <td>279</td>\n",
       "      <td>6156</td>\n",
       "      <td>Research &amp; Development</td>\n",
       "      <td>Below College</td>\n",
       "      <td>Life Sciences</td>\n",
       "      <td>High</td>\n",
       "      <td>Male</td>\n",
       "      <td>Research Scientist</td>\n",
       "      <td>...</td>\n",
       "      <td>1</td>\n",
       "      <td>No</td>\n",
       "      <td>Outstanding</td>\n",
       "      <td>10</td>\n",
       "      <td>3</td>\n",
       "      <td>10</td>\n",
       "      <td>1</td>\n",
       "      <td>7</td>\n",
       "      <td>No</td>\n",
       "      <td>73872</td>\n",
       "    </tr>\n",
       "    <tr>\n",
       "      <th>2</th>\n",
       "      <td>37</td>\n",
       "      <td>Travel_Rarely</td>\n",
       "      <td>1373</td>\n",
       "      <td>2508</td>\n",
       "      <td>Research &amp; Development</td>\n",
       "      <td>College</td>\n",
       "      <td>Other</td>\n",
       "      <td>Very High</td>\n",
       "      <td>Male</td>\n",
       "      <td>Laboratory Technician</td>\n",
       "      <td>...</td>\n",
       "      <td>6</td>\n",
       "      <td>Yes</td>\n",
       "      <td>Excellent</td>\n",
       "      <td>7</td>\n",
       "      <td>3</td>\n",
       "      <td>0</td>\n",
       "      <td>0</td>\n",
       "      <td>0</td>\n",
       "      <td>Yes</td>\n",
       "      <td>30096</td>\n",
       "    </tr>\n",
       "    <tr>\n",
       "      <th>3</th>\n",
       "      <td>33</td>\n",
       "      <td>Travel_Frequently</td>\n",
       "      <td>1392</td>\n",
       "      <td>3491</td>\n",
       "      <td>Research &amp; Development</td>\n",
       "      <td>Master</td>\n",
       "      <td>Life Sciences</td>\n",
       "      <td>Very High</td>\n",
       "      <td>Female</td>\n",
       "      <td>Research Scientist</td>\n",
       "      <td>...</td>\n",
       "      <td>1</td>\n",
       "      <td>Yes</td>\n",
       "      <td>Excellent</td>\n",
       "      <td>8</td>\n",
       "      <td>3</td>\n",
       "      <td>8</td>\n",
       "      <td>3</td>\n",
       "      <td>0</td>\n",
       "      <td>No</td>\n",
       "      <td>41892</td>\n",
       "    </tr>\n",
       "    <tr>\n",
       "      <th>4</th>\n",
       "      <td>27</td>\n",
       "      <td>Travel_Rarely</td>\n",
       "      <td>591</td>\n",
       "      <td>4162</td>\n",
       "      <td>Research &amp; Development</td>\n",
       "      <td>Below College</td>\n",
       "      <td>Medical</td>\n",
       "      <td>Low</td>\n",
       "      <td>Male</td>\n",
       "      <td>Laboratory Technician</td>\n",
       "      <td>...</td>\n",
       "      <td>9</td>\n",
       "      <td>No</td>\n",
       "      <td>Excellent</td>\n",
       "      <td>6</td>\n",
       "      <td>3</td>\n",
       "      <td>2</td>\n",
       "      <td>2</td>\n",
       "      <td>2</td>\n",
       "      <td>No</td>\n",
       "      <td>49944</td>\n",
       "    </tr>\n",
       "  </tbody>\n",
       "</table>\n",
       "<p>5 rows × 23 columns</p>\n",
       "</div>"
      ],
      "text/plain": [
       "   Age     BusinessTravel  DailyRate  CostOfHiring              Department  \\\n",
       "0   41      Travel_Rarely       1102          7192                   Sales   \n",
       "1   49  Travel_Frequently        279          6156  Research & Development   \n",
       "2   37      Travel_Rarely       1373          2508  Research & Development   \n",
       "3   33  Travel_Frequently       1392          3491  Research & Development   \n",
       "4   27      Travel_Rarely        591          4162  Research & Development   \n",
       "\n",
       "       Education EducationField EnvironmentSatisfaction  Gender  \\\n",
       "0        College  Life Sciences                  Medium  Female   \n",
       "1  Below College  Life Sciences                    High    Male   \n",
       "2        College          Other               Very High    Male   \n",
       "3         Master  Life Sciences               Very High  Female   \n",
       "4  Below College        Medical                     Low    Male   \n",
       "\n",
       "                 JobRole  ... NumCompaniesWorked OverTime  PerformanceRating  \\\n",
       "0        Sales Executive  ...                  8      Yes          Excellent   \n",
       "1     Research Scientist  ...                  1       No        Outstanding   \n",
       "2  Laboratory Technician  ...                  6      Yes          Excellent   \n",
       "3     Research Scientist  ...                  1      Yes          Excellent   \n",
       "4  Laboratory Technician  ...                  9       No          Excellent   \n",
       "\n",
       "   TotalWorkingYears TrainingTimesLastYear YearsAtCompany  \\\n",
       "0                  8                     0              6   \n",
       "1                 10                     3             10   \n",
       "2                  7                     3              0   \n",
       "3                  8                     3              8   \n",
       "4                  6                     3              2   \n",
       "\n",
       "   YearsSinceLastPromotion  YearsWithCurrManager  Attrition  \\\n",
       "0                        0                     5        Yes   \n",
       "1                        1                     7         No   \n",
       "2                        0                     0        Yes   \n",
       "3                        3                     0         No   \n",
       "4                        2                     2         No   \n",
       "\n",
       "   YearlyCostOfHiring  \n",
       "0               86304  \n",
       "1               73872  \n",
       "2               30096  \n",
       "3               41892  \n",
       "4               49944  \n",
       "\n",
       "[5 rows x 23 columns]"
      ]
     },
     "execution_count": 54,
     "metadata": {},
     "output_type": "execute_result"
    }
   ],
   "source": [
    "hr_data.head()"
   ]
  },
  {
   "cell_type": "code",
   "execution_count": 59,
   "id": "88e93282-4b90-4f1c-b552-bd46dec9d984",
   "metadata": {
    "tags": []
   },
   "outputs": [],
   "source": [
    "hr_data['NewColumn'] = 'New Data'"
   ]
  },
  {
   "cell_type": "code",
   "execution_count": 60,
   "id": "33038c2b-fdfe-47e1-94f2-526409a7b852",
   "metadata": {
    "tags": []
   },
   "outputs": [
    {
     "data": {
      "text/html": [
       "<div>\n",
       "<style scoped>\n",
       "    .dataframe tbody tr th:only-of-type {\n",
       "        vertical-align: middle;\n",
       "    }\n",
       "\n",
       "    .dataframe tbody tr th {\n",
       "        vertical-align: top;\n",
       "    }\n",
       "\n",
       "    .dataframe thead th {\n",
       "        text-align: right;\n",
       "    }\n",
       "</style>\n",
       "<table border=\"1\" class=\"dataframe\">\n",
       "  <thead>\n",
       "    <tr style=\"text-align: right;\">\n",
       "      <th></th>\n",
       "      <th>Age</th>\n",
       "      <th>BusinessTravel</th>\n",
       "      <th>DailyRate</th>\n",
       "      <th>CostOfHiring</th>\n",
       "      <th>Department</th>\n",
       "      <th>Education</th>\n",
       "      <th>EducationField</th>\n",
       "      <th>EnvironmentSatisfaction</th>\n",
       "      <th>Gender</th>\n",
       "      <th>JobRole</th>\n",
       "      <th>...</th>\n",
       "      <th>OverTime</th>\n",
       "      <th>PerformanceRating</th>\n",
       "      <th>TotalWorkingYears</th>\n",
       "      <th>TrainingTimesLastYear</th>\n",
       "      <th>YearsAtCompany</th>\n",
       "      <th>YearsSinceLastPromotion</th>\n",
       "      <th>YearsWithCurrManager</th>\n",
       "      <th>Attrition</th>\n",
       "      <th>YearlyCostOfHiring</th>\n",
       "      <th>NewColumn</th>\n",
       "    </tr>\n",
       "  </thead>\n",
       "  <tbody>\n",
       "    <tr>\n",
       "      <th>0</th>\n",
       "      <td>41</td>\n",
       "      <td>Travel_Rarely</td>\n",
       "      <td>1102</td>\n",
       "      <td>7192</td>\n",
       "      <td>Sales</td>\n",
       "      <td>College</td>\n",
       "      <td>Life Sciences</td>\n",
       "      <td>Medium</td>\n",
       "      <td>Female</td>\n",
       "      <td>Sales Executive</td>\n",
       "      <td>...</td>\n",
       "      <td>Yes</td>\n",
       "      <td>Excellent</td>\n",
       "      <td>8</td>\n",
       "      <td>0</td>\n",
       "      <td>6</td>\n",
       "      <td>0</td>\n",
       "      <td>5</td>\n",
       "      <td>Yes</td>\n",
       "      <td>86304</td>\n",
       "      <td>New Data</td>\n",
       "    </tr>\n",
       "    <tr>\n",
       "      <th>1</th>\n",
       "      <td>49</td>\n",
       "      <td>Travel_Frequently</td>\n",
       "      <td>279</td>\n",
       "      <td>6156</td>\n",
       "      <td>Research &amp; Development</td>\n",
       "      <td>Below College</td>\n",
       "      <td>Life Sciences</td>\n",
       "      <td>High</td>\n",
       "      <td>Male</td>\n",
       "      <td>Research Scientist</td>\n",
       "      <td>...</td>\n",
       "      <td>No</td>\n",
       "      <td>Outstanding</td>\n",
       "      <td>10</td>\n",
       "      <td>3</td>\n",
       "      <td>10</td>\n",
       "      <td>1</td>\n",
       "      <td>7</td>\n",
       "      <td>No</td>\n",
       "      <td>73872</td>\n",
       "      <td>New Data</td>\n",
       "    </tr>\n",
       "    <tr>\n",
       "      <th>2</th>\n",
       "      <td>37</td>\n",
       "      <td>Travel_Rarely</td>\n",
       "      <td>1373</td>\n",
       "      <td>2508</td>\n",
       "      <td>Research &amp; Development</td>\n",
       "      <td>College</td>\n",
       "      <td>Other</td>\n",
       "      <td>Very High</td>\n",
       "      <td>Male</td>\n",
       "      <td>Laboratory Technician</td>\n",
       "      <td>...</td>\n",
       "      <td>Yes</td>\n",
       "      <td>Excellent</td>\n",
       "      <td>7</td>\n",
       "      <td>3</td>\n",
       "      <td>0</td>\n",
       "      <td>0</td>\n",
       "      <td>0</td>\n",
       "      <td>Yes</td>\n",
       "      <td>30096</td>\n",
       "      <td>New Data</td>\n",
       "    </tr>\n",
       "    <tr>\n",
       "      <th>3</th>\n",
       "      <td>33</td>\n",
       "      <td>Travel_Frequently</td>\n",
       "      <td>1392</td>\n",
       "      <td>3491</td>\n",
       "      <td>Research &amp; Development</td>\n",
       "      <td>Master</td>\n",
       "      <td>Life Sciences</td>\n",
       "      <td>Very High</td>\n",
       "      <td>Female</td>\n",
       "      <td>Research Scientist</td>\n",
       "      <td>...</td>\n",
       "      <td>Yes</td>\n",
       "      <td>Excellent</td>\n",
       "      <td>8</td>\n",
       "      <td>3</td>\n",
       "      <td>8</td>\n",
       "      <td>3</td>\n",
       "      <td>0</td>\n",
       "      <td>No</td>\n",
       "      <td>41892</td>\n",
       "      <td>New Data</td>\n",
       "    </tr>\n",
       "    <tr>\n",
       "      <th>4</th>\n",
       "      <td>27</td>\n",
       "      <td>Travel_Rarely</td>\n",
       "      <td>591</td>\n",
       "      <td>4162</td>\n",
       "      <td>Research &amp; Development</td>\n",
       "      <td>Below College</td>\n",
       "      <td>Medical</td>\n",
       "      <td>Low</td>\n",
       "      <td>Male</td>\n",
       "      <td>Laboratory Technician</td>\n",
       "      <td>...</td>\n",
       "      <td>No</td>\n",
       "      <td>Excellent</td>\n",
       "      <td>6</td>\n",
       "      <td>3</td>\n",
       "      <td>2</td>\n",
       "      <td>2</td>\n",
       "      <td>2</td>\n",
       "      <td>No</td>\n",
       "      <td>49944</td>\n",
       "      <td>New Data</td>\n",
       "    </tr>\n",
       "  </tbody>\n",
       "</table>\n",
       "<p>5 rows × 24 columns</p>\n",
       "</div>"
      ],
      "text/plain": [
       "   Age     BusinessTravel  DailyRate  CostOfHiring              Department  \\\n",
       "0   41      Travel_Rarely       1102          7192                   Sales   \n",
       "1   49  Travel_Frequently        279          6156  Research & Development   \n",
       "2   37      Travel_Rarely       1373          2508  Research & Development   \n",
       "3   33  Travel_Frequently       1392          3491  Research & Development   \n",
       "4   27      Travel_Rarely        591          4162  Research & Development   \n",
       "\n",
       "       Education EducationField EnvironmentSatisfaction  Gender  \\\n",
       "0        College  Life Sciences                  Medium  Female   \n",
       "1  Below College  Life Sciences                    High    Male   \n",
       "2        College          Other               Very High    Male   \n",
       "3         Master  Life Sciences               Very High  Female   \n",
       "4  Below College        Medical                     Low    Male   \n",
       "\n",
       "                 JobRole  ... OverTime PerformanceRating  TotalWorkingYears  \\\n",
       "0        Sales Executive  ...      Yes         Excellent                  8   \n",
       "1     Research Scientist  ...       No       Outstanding                 10   \n",
       "2  Laboratory Technician  ...      Yes         Excellent                  7   \n",
       "3     Research Scientist  ...      Yes         Excellent                  8   \n",
       "4  Laboratory Technician  ...       No         Excellent                  6   \n",
       "\n",
       "   TrainingTimesLastYear YearsAtCompany YearsSinceLastPromotion  \\\n",
       "0                      0              6                       0   \n",
       "1                      3             10                       1   \n",
       "2                      3              0                       0   \n",
       "3                      3              8                       3   \n",
       "4                      3              2                       2   \n",
       "\n",
       "   YearsWithCurrManager  Attrition  YearlyCostOfHiring  NewColumn  \n",
       "0                     5        Yes               86304   New Data  \n",
       "1                     7         No               73872   New Data  \n",
       "2                     0        Yes               30096   New Data  \n",
       "3                     0         No               41892   New Data  \n",
       "4                     2         No               49944   New Data  \n",
       "\n",
       "[5 rows x 24 columns]"
      ]
     },
     "execution_count": 60,
     "metadata": {},
     "output_type": "execute_result"
    }
   ],
   "source": [
    "hr_data.head()"
   ]
  },
  {
   "cell_type": "markdown",
   "id": "718b5305-12e6-444e-af1a-227b0c45d083",
   "metadata": {},
   "source": [
    "#### Using the assign() method to create columns\n",
    "\n",
    "To create many columns at once or update existing columns, we can use assign():"
   ]
  },
  {
   "cell_type": "code",
   "execution_count": 58,
   "id": "a6b9614e-c005-40f0-8531-2b8a9c6ea7a4",
   "metadata": {
    "tags": []
   },
   "outputs": [
    {
     "data": {
      "text/html": [
       "<div>\n",
       "<style scoped>\n",
       "    .dataframe tbody tr th:only-of-type {\n",
       "        vertical-align: middle;\n",
       "    }\n",
       "\n",
       "    .dataframe tbody tr th {\n",
       "        vertical-align: top;\n",
       "    }\n",
       "\n",
       "    .dataframe thead th {\n",
       "        text-align: right;\n",
       "    }\n",
       "</style>\n",
       "<table border=\"1\" class=\"dataframe\">\n",
       "  <thead>\n",
       "    <tr style=\"text-align: right;\">\n",
       "      <th></th>\n",
       "      <th>Age</th>\n",
       "      <th>BusinessTravel</th>\n",
       "      <th>DailyRate</th>\n",
       "      <th>CostOfHiring</th>\n",
       "      <th>Department</th>\n",
       "      <th>Education</th>\n",
       "      <th>EducationField</th>\n",
       "      <th>EnvironmentSatisfaction</th>\n",
       "      <th>Gender</th>\n",
       "      <th>JobRole</th>\n",
       "      <th>...</th>\n",
       "      <th>PerformanceRating</th>\n",
       "      <th>TotalWorkingYears</th>\n",
       "      <th>TrainingTimesLastYear</th>\n",
       "      <th>YearsAtCompany</th>\n",
       "      <th>YearsSinceLastPromotion</th>\n",
       "      <th>YearsWithCurrManager</th>\n",
       "      <th>Attrition</th>\n",
       "      <th>YearlyCostOfHiring</th>\n",
       "      <th>with_attrition</th>\n",
       "      <th>without_attrition</th>\n",
       "    </tr>\n",
       "  </thead>\n",
       "  <tbody>\n",
       "    <tr>\n",
       "      <th>442</th>\n",
       "      <td>36</td>\n",
       "      <td>Non-Travel</td>\n",
       "      <td>635</td>\n",
       "      <td>11976</td>\n",
       "      <td>Sales</td>\n",
       "      <td>Master</td>\n",
       "      <td>Medical</td>\n",
       "      <td>Medium</td>\n",
       "      <td>Male</td>\n",
       "      <td>Sales Executive</td>\n",
       "      <td>...</td>\n",
       "      <td>Excellent</td>\n",
       "      <td>10</td>\n",
       "      <td>3</td>\n",
       "      <td>10</td>\n",
       "      <td>9</td>\n",
       "      <td>7</td>\n",
       "      <td>No</td>\n",
       "      <td>143712</td>\n",
       "      <td>False</td>\n",
       "      <td>True</td>\n",
       "    </tr>\n",
       "    <tr>\n",
       "      <th>1091</th>\n",
       "      <td>33</td>\n",
       "      <td>Travel_Rarely</td>\n",
       "      <td>575</td>\n",
       "      <td>5184</td>\n",
       "      <td>Research &amp; Development</td>\n",
       "      <td>Bachelor</td>\n",
       "      <td>Life Sciences</td>\n",
       "      <td>Very High</td>\n",
       "      <td>Male</td>\n",
       "      <td>Manufacturing Director</td>\n",
       "      <td>...</td>\n",
       "      <td>Excellent</td>\n",
       "      <td>5</td>\n",
       "      <td>2</td>\n",
       "      <td>5</td>\n",
       "      <td>0</td>\n",
       "      <td>2</td>\n",
       "      <td>No</td>\n",
       "      <td>62208</td>\n",
       "      <td>False</td>\n",
       "      <td>True</td>\n",
       "    </tr>\n",
       "    <tr>\n",
       "      <th>981</th>\n",
       "      <td>35</td>\n",
       "      <td>Travel_Frequently</td>\n",
       "      <td>662</td>\n",
       "      <td>5537</td>\n",
       "      <td>Sales</td>\n",
       "      <td>Master</td>\n",
       "      <td>Marketing</td>\n",
       "      <td>Very High</td>\n",
       "      <td>Female</td>\n",
       "      <td>Sales Executive</td>\n",
       "      <td>...</td>\n",
       "      <td>Excellent</td>\n",
       "      <td>5</td>\n",
       "      <td>0</td>\n",
       "      <td>4</td>\n",
       "      <td>3</td>\n",
       "      <td>2</td>\n",
       "      <td>Yes</td>\n",
       "      <td>66444</td>\n",
       "      <td>True</td>\n",
       "      <td>False</td>\n",
       "    </tr>\n",
       "  </tbody>\n",
       "</table>\n",
       "<p>3 rows × 25 columns</p>\n",
       "</div>"
      ],
      "text/plain": [
       "      Age     BusinessTravel  DailyRate  CostOfHiring              Department  \\\n",
       "442    36         Non-Travel        635         11976                   Sales   \n",
       "1091   33      Travel_Rarely        575          5184  Research & Development   \n",
       "981    35  Travel_Frequently        662          5537                   Sales   \n",
       "\n",
       "     Education EducationField EnvironmentSatisfaction  Gender  \\\n",
       "442     Master        Medical                  Medium    Male   \n",
       "1091  Bachelor  Life Sciences               Very High    Male   \n",
       "981     Master      Marketing               Very High  Female   \n",
       "\n",
       "                     JobRole  ... PerformanceRating TotalWorkingYears  \\\n",
       "442          Sales Executive  ...         Excellent                10   \n",
       "1091  Manufacturing Director  ...         Excellent                 5   \n",
       "981          Sales Executive  ...         Excellent                 5   \n",
       "\n",
       "      TrainingTimesLastYear  YearsAtCompany YearsSinceLastPromotion  \\\n",
       "442                       3              10                       9   \n",
       "1091                      2               5                       0   \n",
       "981                       0               4                       3   \n",
       "\n",
       "     YearsWithCurrManager  Attrition  YearlyCostOfHiring  with_attrition  \\\n",
       "442                     7         No              143712           False   \n",
       "1091                    2         No               62208           False   \n",
       "981                     2        Yes               66444            True   \n",
       "\n",
       "      without_attrition  \n",
       "442                True  \n",
       "1091               True  \n",
       "981               False  \n",
       "\n",
       "[3 rows x 25 columns]"
      ]
     },
     "execution_count": 58,
     "metadata": {},
     "output_type": "execute_result"
    }
   ],
   "source": [
    "hr_data.assign(\n",
    "    with_attrition=hr_data.Attrition.str.endswith('Yes'),\n",
    "    without_attrition=hr_data.Attrition.str.endswith('No')\n",
    ").sample(3, random_state=0)"
   ]
  },
  {
   "cell_type": "code",
   "execution_count": null,
   "id": "2d9ad83d-e6f5-4695-a8b0-f68b3e3f67fb",
   "metadata": {},
   "outputs": [],
   "source": []
  },
  {
   "cell_type": "markdown",
   "id": "5bee1857-a90d-46ab-8c8c-228161e928a3",
   "metadata": {},
   "source": [
    "## Creating New Row"
   ]
  },
  {
   "cell_type": "code",
   "execution_count": 55,
   "id": "d432080c-9122-456a-a8ad-43f78ec88f25",
   "metadata": {
    "tags": []
   },
   "outputs": [],
   "source": [
    "df_to_append = hr_data.tail(1)"
   ]
  },
  {
   "cell_type": "code",
   "execution_count": 56,
   "id": "f8453177-d95d-4aaa-af3c-949c565ec0b0",
   "metadata": {
    "tags": []
   },
   "outputs": [
    {
     "data": {
      "text/html": [
       "<div>\n",
       "<style scoped>\n",
       "    .dataframe tbody tr th:only-of-type {\n",
       "        vertical-align: middle;\n",
       "    }\n",
       "\n",
       "    .dataframe tbody tr th {\n",
       "        vertical-align: top;\n",
       "    }\n",
       "\n",
       "    .dataframe thead th {\n",
       "        text-align: right;\n",
       "    }\n",
       "</style>\n",
       "<table border=\"1\" class=\"dataframe\">\n",
       "  <thead>\n",
       "    <tr style=\"text-align: right;\">\n",
       "      <th></th>\n",
       "      <th>Age</th>\n",
       "      <th>BusinessTravel</th>\n",
       "      <th>DailyRate</th>\n",
       "      <th>CostOfHiring</th>\n",
       "      <th>Department</th>\n",
       "      <th>Education</th>\n",
       "      <th>EducationField</th>\n",
       "      <th>EnvironmentSatisfaction</th>\n",
       "      <th>Gender</th>\n",
       "      <th>JobRole</th>\n",
       "      <th>...</th>\n",
       "      <th>NumCompaniesWorked</th>\n",
       "      <th>OverTime</th>\n",
       "      <th>PerformanceRating</th>\n",
       "      <th>TotalWorkingYears</th>\n",
       "      <th>TrainingTimesLastYear</th>\n",
       "      <th>YearsAtCompany</th>\n",
       "      <th>YearsSinceLastPromotion</th>\n",
       "      <th>YearsWithCurrManager</th>\n",
       "      <th>Attrition</th>\n",
       "      <th>YearlyCostOfHiring</th>\n",
       "    </tr>\n",
       "  </thead>\n",
       "  <tbody>\n",
       "    <tr>\n",
       "      <th>0</th>\n",
       "      <td>41</td>\n",
       "      <td>Travel_Rarely</td>\n",
       "      <td>1102</td>\n",
       "      <td>7192</td>\n",
       "      <td>Sales</td>\n",
       "      <td>College</td>\n",
       "      <td>Life Sciences</td>\n",
       "      <td>Medium</td>\n",
       "      <td>Female</td>\n",
       "      <td>Sales Executive</td>\n",
       "      <td>...</td>\n",
       "      <td>8</td>\n",
       "      <td>Yes</td>\n",
       "      <td>Excellent</td>\n",
       "      <td>8</td>\n",
       "      <td>0</td>\n",
       "      <td>6</td>\n",
       "      <td>0</td>\n",
       "      <td>5</td>\n",
       "      <td>Yes</td>\n",
       "      <td>86304</td>\n",
       "    </tr>\n",
       "    <tr>\n",
       "      <th>1</th>\n",
       "      <td>49</td>\n",
       "      <td>Travel_Frequently</td>\n",
       "      <td>279</td>\n",
       "      <td>6156</td>\n",
       "      <td>Research &amp; Development</td>\n",
       "      <td>Below College</td>\n",
       "      <td>Life Sciences</td>\n",
       "      <td>High</td>\n",
       "      <td>Male</td>\n",
       "      <td>Research Scientist</td>\n",
       "      <td>...</td>\n",
       "      <td>1</td>\n",
       "      <td>No</td>\n",
       "      <td>Outstanding</td>\n",
       "      <td>10</td>\n",
       "      <td>3</td>\n",
       "      <td>10</td>\n",
       "      <td>1</td>\n",
       "      <td>7</td>\n",
       "      <td>No</td>\n",
       "      <td>73872</td>\n",
       "    </tr>\n",
       "    <tr>\n",
       "      <th>2</th>\n",
       "      <td>37</td>\n",
       "      <td>Travel_Rarely</td>\n",
       "      <td>1373</td>\n",
       "      <td>2508</td>\n",
       "      <td>Research &amp; Development</td>\n",
       "      <td>College</td>\n",
       "      <td>Other</td>\n",
       "      <td>Very High</td>\n",
       "      <td>Male</td>\n",
       "      <td>Laboratory Technician</td>\n",
       "      <td>...</td>\n",
       "      <td>6</td>\n",
       "      <td>Yes</td>\n",
       "      <td>Excellent</td>\n",
       "      <td>7</td>\n",
       "      <td>3</td>\n",
       "      <td>0</td>\n",
       "      <td>0</td>\n",
       "      <td>0</td>\n",
       "      <td>Yes</td>\n",
       "      <td>30096</td>\n",
       "    </tr>\n",
       "    <tr>\n",
       "      <th>3</th>\n",
       "      <td>33</td>\n",
       "      <td>Travel_Frequently</td>\n",
       "      <td>1392</td>\n",
       "      <td>3491</td>\n",
       "      <td>Research &amp; Development</td>\n",
       "      <td>Master</td>\n",
       "      <td>Life Sciences</td>\n",
       "      <td>Very High</td>\n",
       "      <td>Female</td>\n",
       "      <td>Research Scientist</td>\n",
       "      <td>...</td>\n",
       "      <td>1</td>\n",
       "      <td>Yes</td>\n",
       "      <td>Excellent</td>\n",
       "      <td>8</td>\n",
       "      <td>3</td>\n",
       "      <td>8</td>\n",
       "      <td>3</td>\n",
       "      <td>0</td>\n",
       "      <td>No</td>\n",
       "      <td>41892</td>\n",
       "    </tr>\n",
       "    <tr>\n",
       "      <th>4</th>\n",
       "      <td>27</td>\n",
       "      <td>Travel_Rarely</td>\n",
       "      <td>591</td>\n",
       "      <td>4162</td>\n",
       "      <td>Research &amp; Development</td>\n",
       "      <td>Below College</td>\n",
       "      <td>Medical</td>\n",
       "      <td>Low</td>\n",
       "      <td>Male</td>\n",
       "      <td>Laboratory Technician</td>\n",
       "      <td>...</td>\n",
       "      <td>9</td>\n",
       "      <td>No</td>\n",
       "      <td>Excellent</td>\n",
       "      <td>6</td>\n",
       "      <td>3</td>\n",
       "      <td>2</td>\n",
       "      <td>2</td>\n",
       "      <td>2</td>\n",
       "      <td>No</td>\n",
       "      <td>49944</td>\n",
       "    </tr>\n",
       "    <tr>\n",
       "      <th>...</th>\n",
       "      <td>...</td>\n",
       "      <td>...</td>\n",
       "      <td>...</td>\n",
       "      <td>...</td>\n",
       "      <td>...</td>\n",
       "      <td>...</td>\n",
       "      <td>...</td>\n",
       "      <td>...</td>\n",
       "      <td>...</td>\n",
       "      <td>...</td>\n",
       "      <td>...</td>\n",
       "      <td>...</td>\n",
       "      <td>...</td>\n",
       "      <td>...</td>\n",
       "      <td>...</td>\n",
       "      <td>...</td>\n",
       "      <td>...</td>\n",
       "      <td>...</td>\n",
       "      <td>...</td>\n",
       "      <td>...</td>\n",
       "      <td>...</td>\n",
       "    </tr>\n",
       "    <tr>\n",
       "      <th>1466</th>\n",
       "      <td>39</td>\n",
       "      <td>Travel_Rarely</td>\n",
       "      <td>613</td>\n",
       "      <td>11989</td>\n",
       "      <td>Research &amp; Development</td>\n",
       "      <td>Below College</td>\n",
       "      <td>Medical</td>\n",
       "      <td>Very High</td>\n",
       "      <td>Male</td>\n",
       "      <td>Healthcare Representative</td>\n",
       "      <td>...</td>\n",
       "      <td>4</td>\n",
       "      <td>No</td>\n",
       "      <td>Excellent</td>\n",
       "      <td>9</td>\n",
       "      <td>5</td>\n",
       "      <td>7</td>\n",
       "      <td>1</td>\n",
       "      <td>7</td>\n",
       "      <td>No</td>\n",
       "      <td>143868</td>\n",
       "    </tr>\n",
       "    <tr>\n",
       "      <th>1467</th>\n",
       "      <td>27</td>\n",
       "      <td>Travel_Rarely</td>\n",
       "      <td>155</td>\n",
       "      <td>7370</td>\n",
       "      <td>Research &amp; Development</td>\n",
       "      <td>Bachelor</td>\n",
       "      <td>Life Sciences</td>\n",
       "      <td>Medium</td>\n",
       "      <td>Male</td>\n",
       "      <td>Manufacturing Director</td>\n",
       "      <td>...</td>\n",
       "      <td>1</td>\n",
       "      <td>Yes</td>\n",
       "      <td>Outstanding</td>\n",
       "      <td>6</td>\n",
       "      <td>0</td>\n",
       "      <td>6</td>\n",
       "      <td>0</td>\n",
       "      <td>3</td>\n",
       "      <td>No</td>\n",
       "      <td>88440</td>\n",
       "    </tr>\n",
       "    <tr>\n",
       "      <th>1468</th>\n",
       "      <td>49</td>\n",
       "      <td>Travel_Frequently</td>\n",
       "      <td>1023</td>\n",
       "      <td>6468</td>\n",
       "      <td>Sales</td>\n",
       "      <td>Bachelor</td>\n",
       "      <td>Medical</td>\n",
       "      <td>Very High</td>\n",
       "      <td>Male</td>\n",
       "      <td>Sales Executive</td>\n",
       "      <td>...</td>\n",
       "      <td>2</td>\n",
       "      <td>No</td>\n",
       "      <td>Excellent</td>\n",
       "      <td>17</td>\n",
       "      <td>3</td>\n",
       "      <td>9</td>\n",
       "      <td>0</td>\n",
       "      <td>8</td>\n",
       "      <td>No</td>\n",
       "      <td>77616</td>\n",
       "    </tr>\n",
       "    <tr>\n",
       "      <th>1469</th>\n",
       "      <td>34</td>\n",
       "      <td>Travel_Rarely</td>\n",
       "      <td>628</td>\n",
       "      <td>5285</td>\n",
       "      <td>Research &amp; Development</td>\n",
       "      <td>Bachelor</td>\n",
       "      <td>Medical</td>\n",
       "      <td>Medium</td>\n",
       "      <td>Male</td>\n",
       "      <td>Laboratory Technician</td>\n",
       "      <td>...</td>\n",
       "      <td>2</td>\n",
       "      <td>No</td>\n",
       "      <td>Excellent</td>\n",
       "      <td>6</td>\n",
       "      <td>3</td>\n",
       "      <td>4</td>\n",
       "      <td>1</td>\n",
       "      <td>2</td>\n",
       "      <td>No</td>\n",
       "      <td>63420</td>\n",
       "    </tr>\n",
       "    <tr>\n",
       "      <th>1469</th>\n",
       "      <td>34</td>\n",
       "      <td>Travel_Rarely</td>\n",
       "      <td>628</td>\n",
       "      <td>5285</td>\n",
       "      <td>Research &amp; Development</td>\n",
       "      <td>Bachelor</td>\n",
       "      <td>Medical</td>\n",
       "      <td>Medium</td>\n",
       "      <td>Male</td>\n",
       "      <td>Laboratory Technician</td>\n",
       "      <td>...</td>\n",
       "      <td>2</td>\n",
       "      <td>No</td>\n",
       "      <td>Excellent</td>\n",
       "      <td>6</td>\n",
       "      <td>3</td>\n",
       "      <td>4</td>\n",
       "      <td>1</td>\n",
       "      <td>2</td>\n",
       "      <td>No</td>\n",
       "      <td>63420</td>\n",
       "    </tr>\n",
       "  </tbody>\n",
       "</table>\n",
       "<p>1471 rows × 23 columns</p>\n",
       "</div>"
      ],
      "text/plain": [
       "      Age     BusinessTravel  DailyRate  CostOfHiring              Department  \\\n",
       "0      41      Travel_Rarely       1102          7192                   Sales   \n",
       "1      49  Travel_Frequently        279          6156  Research & Development   \n",
       "2      37      Travel_Rarely       1373          2508  Research & Development   \n",
       "3      33  Travel_Frequently       1392          3491  Research & Development   \n",
       "4      27      Travel_Rarely        591          4162  Research & Development   \n",
       "...   ...                ...        ...           ...                     ...   \n",
       "1466   39      Travel_Rarely        613         11989  Research & Development   \n",
       "1467   27      Travel_Rarely        155          7370  Research & Development   \n",
       "1468   49  Travel_Frequently       1023          6468                   Sales   \n",
       "1469   34      Travel_Rarely        628          5285  Research & Development   \n",
       "1469   34      Travel_Rarely        628          5285  Research & Development   \n",
       "\n",
       "          Education EducationField EnvironmentSatisfaction  Gender  \\\n",
       "0           College  Life Sciences                  Medium  Female   \n",
       "1     Below College  Life Sciences                    High    Male   \n",
       "2           College          Other               Very High    Male   \n",
       "3            Master  Life Sciences               Very High  Female   \n",
       "4     Below College        Medical                     Low    Male   \n",
       "...             ...            ...                     ...     ...   \n",
       "1466  Below College        Medical               Very High    Male   \n",
       "1467       Bachelor  Life Sciences                  Medium    Male   \n",
       "1468       Bachelor        Medical               Very High    Male   \n",
       "1469       Bachelor        Medical                  Medium    Male   \n",
       "1469       Bachelor        Medical                  Medium    Male   \n",
       "\n",
       "                        JobRole  ... NumCompaniesWorked OverTime  \\\n",
       "0               Sales Executive  ...                  8      Yes   \n",
       "1            Research Scientist  ...                  1       No   \n",
       "2         Laboratory Technician  ...                  6      Yes   \n",
       "3            Research Scientist  ...                  1      Yes   \n",
       "4         Laboratory Technician  ...                  9       No   \n",
       "...                         ...  ...                ...      ...   \n",
       "1466  Healthcare Representative  ...                  4       No   \n",
       "1467     Manufacturing Director  ...                  1      Yes   \n",
       "1468            Sales Executive  ...                  2       No   \n",
       "1469      Laboratory Technician  ...                  2       No   \n",
       "1469      Laboratory Technician  ...                  2       No   \n",
       "\n",
       "      PerformanceRating  TotalWorkingYears TrainingTimesLastYear  \\\n",
       "0             Excellent                  8                     0   \n",
       "1           Outstanding                 10                     3   \n",
       "2             Excellent                  7                     3   \n",
       "3             Excellent                  8                     3   \n",
       "4             Excellent                  6                     3   \n",
       "...                 ...                ...                   ...   \n",
       "1466          Excellent                  9                     5   \n",
       "1467        Outstanding                  6                     0   \n",
       "1468          Excellent                 17                     3   \n",
       "1469          Excellent                  6                     3   \n",
       "1469          Excellent                  6                     3   \n",
       "\n",
       "     YearsAtCompany  YearsSinceLastPromotion  YearsWithCurrManager  Attrition  \\\n",
       "0                 6                        0                     5        Yes   \n",
       "1                10                        1                     7         No   \n",
       "2                 0                        0                     0        Yes   \n",
       "3                 8                        3                     0         No   \n",
       "4                 2                        2                     2         No   \n",
       "...             ...                      ...                   ...        ...   \n",
       "1466              7                        1                     7         No   \n",
       "1467              6                        0                     3         No   \n",
       "1468              9                        0                     8         No   \n",
       "1469              4                        1                     2         No   \n",
       "1469              4                        1                     2         No   \n",
       "\n",
       "      YearlyCostOfHiring  \n",
       "0                  86304  \n",
       "1                  73872  \n",
       "2                  30096  \n",
       "3                  41892  \n",
       "4                  49944  \n",
       "...                  ...  \n",
       "1466              143868  \n",
       "1467               88440  \n",
       "1468               77616  \n",
       "1469               63420  \n",
       "1469               63420  \n",
       "\n",
       "[1471 rows x 23 columns]"
      ]
     },
     "execution_count": 56,
     "metadata": {},
     "output_type": "execute_result"
    }
   ],
   "source": [
    "pd.concat([hr_data, df_to_append])"
   ]
  },
  {
   "cell_type": "markdown",
   "id": "10bdfd0c-e3c8-4655-97f4-4f434d911a5c",
   "metadata": {},
   "source": []
  },
  {
   "cell_type": "markdown",
   "id": "da5c77e2-3314-448c-9707-468daffe1f0d",
   "metadata": {},
   "source": [
    "## Deleting Unwanted Data\n",
    "\n",
    "Columns can be deleted using dictionary syntax with del:"
   ]
  },
  {
   "cell_type": "code",
   "execution_count": 61,
   "id": "22148bda-5ed2-4728-b86a-a1c4761fc386",
   "metadata": {
    "tags": []
   },
   "outputs": [
    {
     "data": {
      "text/plain": [
       "Index(['Age', 'BusinessTravel', 'DailyRate', 'CostOfHiring', 'Department',\n",
       "       'Education', 'EducationField', 'EnvironmentSatisfaction', 'Gender',\n",
       "       'JobRole', 'JobSatisfaction', 'MaritalStatus', 'MonthlyIncome',\n",
       "       'NumCompaniesWorked', 'OverTime', 'PerformanceRating',\n",
       "       'TotalWorkingYears', 'TrainingTimesLastYear', 'YearsAtCompany',\n",
       "       'YearsSinceLastPromotion', 'YearsWithCurrManager', 'Attrition',\n",
       "       'YearlyCostOfHiring'],\n",
       "      dtype='object')"
      ]
     },
     "execution_count": 61,
     "metadata": {},
     "output_type": "execute_result"
    }
   ],
   "source": [
    "del hr_data['NewColumn']\n",
    "hr_data.columns"
   ]
  },
  {
   "cell_type": "markdown",
   "id": "08957392-6065-4a37-b5ee-93a84c9d367d",
   "metadata": {},
   "source": [
    "If we don't know whether the column exists, we should use a try/except block:"
   ]
  },
  {
   "cell_type": "code",
   "execution_count": 62,
   "id": "2004cdf7-f591-470a-a933-41428162927b",
   "metadata": {
    "tags": []
   },
   "outputs": [
    {
     "name": "stdout",
     "output_type": "stream",
     "text": [
      "not there anymore\n"
     ]
    }
   ],
   "source": [
    "try:\n",
    "    del hr_data['NewColumn']\n",
    "except KeyError:\n",
    "    # handle the error here\n",
    "    print('not there anymore')"
   ]
  },
  {
   "cell_type": "markdown",
   "id": "2c0e1548-741e-4a56-8d3b-3e0ab87b09e0",
   "metadata": {},
   "source": [
    "## Using the drop() method\n",
    "\n",
    "We can drop rows by passing a list of indices to the drop() method. Notice in the following example that when asking for the first 2 rows with head() we get the 3rd and 4th rows because we dropped the original first 2 with drop([0, 1]):"
   ]
  },
  {
   "cell_type": "code",
   "execution_count": 63,
   "id": "280eec37-c590-4d8a-84a3-a47c55080977",
   "metadata": {
    "tags": []
   },
   "outputs": [
    {
     "data": {
      "text/html": [
       "<div>\n",
       "<style scoped>\n",
       "    .dataframe tbody tr th:only-of-type {\n",
       "        vertical-align: middle;\n",
       "    }\n",
       "\n",
       "    .dataframe tbody tr th {\n",
       "        vertical-align: top;\n",
       "    }\n",
       "\n",
       "    .dataframe thead th {\n",
       "        text-align: right;\n",
       "    }\n",
       "</style>\n",
       "<table border=\"1\" class=\"dataframe\">\n",
       "  <thead>\n",
       "    <tr style=\"text-align: right;\">\n",
       "      <th></th>\n",
       "      <th>Age</th>\n",
       "      <th>BusinessTravel</th>\n",
       "      <th>DailyRate</th>\n",
       "      <th>CostOfHiring</th>\n",
       "      <th>Department</th>\n",
       "      <th>Education</th>\n",
       "      <th>EducationField</th>\n",
       "      <th>EnvironmentSatisfaction</th>\n",
       "      <th>Gender</th>\n",
       "      <th>JobRole</th>\n",
       "      <th>...</th>\n",
       "      <th>NumCompaniesWorked</th>\n",
       "      <th>OverTime</th>\n",
       "      <th>PerformanceRating</th>\n",
       "      <th>TotalWorkingYears</th>\n",
       "      <th>TrainingTimesLastYear</th>\n",
       "      <th>YearsAtCompany</th>\n",
       "      <th>YearsSinceLastPromotion</th>\n",
       "      <th>YearsWithCurrManager</th>\n",
       "      <th>Attrition</th>\n",
       "      <th>YearlyCostOfHiring</th>\n",
       "    </tr>\n",
       "  </thead>\n",
       "  <tbody>\n",
       "    <tr>\n",
       "      <th>2</th>\n",
       "      <td>37</td>\n",
       "      <td>Travel_Rarely</td>\n",
       "      <td>1373</td>\n",
       "      <td>2508</td>\n",
       "      <td>Research &amp; Development</td>\n",
       "      <td>College</td>\n",
       "      <td>Other</td>\n",
       "      <td>Very High</td>\n",
       "      <td>Male</td>\n",
       "      <td>Laboratory Technician</td>\n",
       "      <td>...</td>\n",
       "      <td>6</td>\n",
       "      <td>Yes</td>\n",
       "      <td>Excellent</td>\n",
       "      <td>7</td>\n",
       "      <td>3</td>\n",
       "      <td>0</td>\n",
       "      <td>0</td>\n",
       "      <td>0</td>\n",
       "      <td>Yes</td>\n",
       "      <td>30096</td>\n",
       "    </tr>\n",
       "    <tr>\n",
       "      <th>3</th>\n",
       "      <td>33</td>\n",
       "      <td>Travel_Frequently</td>\n",
       "      <td>1392</td>\n",
       "      <td>3491</td>\n",
       "      <td>Research &amp; Development</td>\n",
       "      <td>Master</td>\n",
       "      <td>Life Sciences</td>\n",
       "      <td>Very High</td>\n",
       "      <td>Female</td>\n",
       "      <td>Research Scientist</td>\n",
       "      <td>...</td>\n",
       "      <td>1</td>\n",
       "      <td>Yes</td>\n",
       "      <td>Excellent</td>\n",
       "      <td>8</td>\n",
       "      <td>3</td>\n",
       "      <td>8</td>\n",
       "      <td>3</td>\n",
       "      <td>0</td>\n",
       "      <td>No</td>\n",
       "      <td>41892</td>\n",
       "    </tr>\n",
       "  </tbody>\n",
       "</table>\n",
       "<p>2 rows × 23 columns</p>\n",
       "</div>"
      ],
      "text/plain": [
       "   Age     BusinessTravel  DailyRate  CostOfHiring              Department  \\\n",
       "2   37      Travel_Rarely       1373          2508  Research & Development   \n",
       "3   33  Travel_Frequently       1392          3491  Research & Development   \n",
       "\n",
       "  Education EducationField EnvironmentSatisfaction  Gender  \\\n",
       "2   College          Other               Very High    Male   \n",
       "3    Master  Life Sciences               Very High  Female   \n",
       "\n",
       "                 JobRole  ... NumCompaniesWorked OverTime  PerformanceRating  \\\n",
       "2  Laboratory Technician  ...                  6      Yes          Excellent   \n",
       "3     Research Scientist  ...                  1      Yes          Excellent   \n",
       "\n",
       "   TotalWorkingYears TrainingTimesLastYear YearsAtCompany  \\\n",
       "2                  7                     3              0   \n",
       "3                  8                     3              8   \n",
       "\n",
       "   YearsSinceLastPromotion  YearsWithCurrManager  Attrition  \\\n",
       "2                        0                     0        Yes   \n",
       "3                        3                     0         No   \n",
       "\n",
       "   YearlyCostOfHiring  \n",
       "2               30096  \n",
       "3               41892  \n",
       "\n",
       "[2 rows x 23 columns]"
      ]
     },
     "execution_count": 63,
     "metadata": {},
     "output_type": "execute_result"
    }
   ],
   "source": [
    "hr_data.drop([0, 1]).head(2)"
   ]
  },
  {
   "cell_type": "markdown",
   "id": "820b9b9e-0376-4880-9c73-9be00d9cac88",
   "metadata": {},
   "source": []
  },
  {
   "cell_type": "markdown",
   "id": "b2f6b304-e469-4998-816e-5b24d5b9592f",
   "metadata": {},
   "source": []
  },
  {
   "cell_type": "markdown",
   "id": "2d813db3-43e8-4064-a28a-51f9ae0cc3ef",
   "metadata": {},
   "source": [
    "# Data Visualisation"
   ]
  },
  {
   "cell_type": "code",
   "execution_count": 7,
   "id": "1fe7c7f8-6999-469a-9ba6-536cb963ac4b",
   "metadata": {
    "tags": []
   },
   "outputs": [
    {
     "data": {
      "text/plain": [
       "<AxesSubplot:ylabel='Frequency'>"
      ]
     },
     "execution_count": 7,
     "metadata": {},
     "output_type": "execute_result"
    },
    {
     "data": {
      "image/png": "[encoded data removed]",
      "text/plain": [
       "<Figure size 640x480 with 1 Axes>"
      ]
     },
     "metadata": {},
     "output_type": "display_data"
    }
   ],
   "source": [
    "hr_data['Age'].plot(kind='hist')"
   ]
  },
  {
   "cell_type": "code",
   "execution_count": 8,
   "id": "7fbf965c-70ad-4a72-8c48-2171d7cd1ed1",
   "metadata": {
    "tags": []
   },
   "outputs": [],
   "source": [
    "import matplotlib.pylab as plt\n",
    "plt.style.use('ggplot')"
   ]
  },
  {
   "cell_type": "code",
   "execution_count": 13,
   "id": "862467a3-cb34-47ff-bbc4-3938ea352d50",
   "metadata": {
    "tags": []
   },
   "outputs": [
    {
     "data": {
      "text/plain": [
       "<AxesSubplot:title={'center':'The graph shows Age distribution'}, ylabel='Frequency'>"
      ]
     },
     "execution_count": 13,
     "metadata": {},
     "output_type": "execute_result"
    },
    {
     "data": {
      "image/png": "[encoded data removed]",
      "text/plain": [
       "<Figure size 1500x700 with 1 Axes>"
      ]
     },
     "metadata": {},
     "output_type": "display_data"
    }
   ],
   "source": [
    "hr_data['Age'].plot(kind='hist', bins=7,\n",
    "                   title='The graph shows Age distribution',\n",
    "                   figsize=(15,7))"
   ]
  },
  {
   "cell_type": "code",
   "execution_count": 21,
   "id": "d0d98f1a-87b0-4ff2-9f69-6e680c6ab42d",
   "metadata": {
    "tags": []
   },
   "outputs": [
    {
     "data": {
      "text/plain": [
       "<AxesSubplot:title={'center':'The graph shows Gender distribution'}>"
      ]
     },
     "execution_count": 21,
     "metadata": {},
     "output_type": "execute_result"
    },
    {
     "data": {
      "image/png": "[encoded data removed]",
      "text/plain": [
       "<Figure size 1000x500 with 1 Axes>"
      ]
     },
     "metadata": {},
     "output_type": "display_data"
    }
   ],
   "source": [
    "hr_data['Gender'].value_counts().plot(kind='bar',\n",
    "                   title='The graph shows Gender distribution',\n",
    "                   figsize=(10,5))"
   ]
  },
  {
   "cell_type": "code",
   "execution_count": 18,
   "id": "f1ec3817-97f7-420e-b5a9-00fbe05dc88a",
   "metadata": {
    "tags": []
   },
   "outputs": [
    {
     "data": {
      "text/plain": [
       "<AxesSubplot:title={'center':'The graph shows Age distribution'}, ylabel='Frequency'>"
      ]
     },
     "execution_count": 18,
     "metadata": {},
     "output_type": "execute_result"
    },
    {
     "data": {
      "image/png": "[encoded data removed]",
      "text/plain": [
       "<Figure size 1500x700 with 1 Axes>"
      ]
     },
     "metadata": {},
     "output_type": "display_data"
    }
   ],
   "source": [
    "hr_data['Gender'].plot(kind='barh', label='Attrition', legend=True,\n",
    "                   title='The graph shows Gender distribution',\n",
    "                   figsize=(10,5))"
   ]
  },
  {
   "cell_type": "code",
   "execution_count": 15,
   "id": "ce074f9f-2789-4375-8c53-39dbec45a65f",
   "metadata": {
    "tags": []
   },
   "outputs": [
    {
     "data": {
      "text/plain": [
       "<AxesSubplot:title={'center':'Distribution of Age by Cost of Hiring'}, xlabel='Age', ylabel='CostOfHiring'>"
      ]
     },
     "execution_count": 15,
     "metadata": {},
     "output_type": "execute_result"
    },
    {
     "data": {
      "image/png": "[encoded data removed]",
      "text/plain": [
       "<Figure size 1200x600 with 1 Axes>"
      ]
     },
     "metadata": {},
     "output_type": "display_data"
    }
   ],
   "source": [
    "hr_data.plot(kind='scatter', x='Age', y='CostOfHiring',\n",
    "            title='Distribution of Age by Cost of Hiring',\n",
    "            figsize=(12,6))"
   ]
  },
  {
   "cell_type": "code",
   "execution_count": null,
   "id": "da694582-8f9b-40d7-8e60-2e13157c9775",
   "metadata": {},
   "outputs": [],
   "source": []
  }
 ],
 "metadata": {
  "kernelspec": {
   "display_name": "Python 3 (ipykernel)",
   "language": "python",
   "name": "python3"
  },
  "language_info": {
   "codemirror_mode": {
    "name": "ipython",
    "version": 3
   },
   "file_extension": ".py",
   "mimetype": "text/x-python",
   "name": "python",
   "nbconvert_exporter": "python",
   "pygments_lexer": "ipython3",
   "version": "3.10.6"
  },
  "toc-autonumbering": false,
  "toc-showcode": true,
  "toc-showmarkdowntxt": true
 },
 "nbformat": 4,
 "nbformat_minor": 5
}
